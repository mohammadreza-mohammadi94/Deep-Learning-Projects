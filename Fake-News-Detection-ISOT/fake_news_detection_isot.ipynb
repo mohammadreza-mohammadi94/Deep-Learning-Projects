{
  "metadata": {
    "kernelspec": {
      "name": "python3",
      "display_name": "Python 3",
      "language": "python"
    },
    "language_info": {
      "name": "python",
      "version": "3.11.13",
      "mimetype": "text/x-python",
      "codemirror_mode": {
        "name": "ipython",
        "version": 3
      },
      "pygments_lexer": "ipython3",
      "nbconvert_exporter": "python",
      "file_extension": ".py"
    },
    "colab": {
      "provenance": [],
      "gpuType": "T4",
      "include_colab_link": true
    },
    "accelerator": "GPU",
    "kaggle": {
      "accelerator": "nvidiaTeslaT4",
      "dataSources": [
        {
          "sourceId": 8165591,
          "sourceType": "datasetVersion",
          "datasetId": 4831777
        }
      ],
      "dockerImageVersionId": 31154,
      "isInternetEnabled": true,
      "language": "python",
      "sourceType": "notebook",
      "isGpuEnabled": true
    }
  },
  "nbformat_minor": 0,
  "nbformat": 4,
  "cells": [
    {
      "cell_type": "markdown",
      "metadata": {
        "id": "view-in-github",
        "colab_type": "text"
      },
      "source": [
        "<a href=\"https://colab.research.google.com/github/mohammadreza-mohammadi94/Deep-Learning-Projects/blob/main/Fake-News-Detection-ISOT/fake_news_detection_isot.ipynb\" target=\"_parent\"><img src=\"https://colab.research.google.com/assets/colab-badge.svg\" alt=\"Open In Colab\"/></a>"
      ]
    },
    {
      "cell_type": "markdown",
      "source": [
        "# Install Libs"
      ],
      "metadata": {
        "id": "YqKp0b0iJEz-"
      }
    },
    {
      "cell_type": "code",
      "source": [
        "!pip install -q pandas numpy matplotlib seaborn kaggle tokenizers tensorflow scikit-learn"
      ],
      "metadata": {
        "id": "6ae76299",
        "trusted": true
      },
      "outputs": [],
      "execution_count": 1
    },
    {
      "cell_type": "markdown",
      "source": [
        "# Import Libs"
      ],
      "metadata": {
        "id": "QSyJ9NhpJHIM"
      }
    },
    {
      "cell_type": "code",
      "source": [
        "# 📦 Imports\n",
        "import os\n",
        "import numpy as np\n",
        "import pandas as pd\n",
        "import matplotlib.pyplot as plt\n",
        "import tensorflow as tf\n",
        "from sklearn.model_selection import train_test_split\n",
        "from sklearn.metrics import classification_report, confusion_matrix\n",
        "from tokenizers import Tokenizer\n",
        "from tokenizers.models import BPE\n",
        "from tokenizers.trainers import BpeTrainer\n",
        "from tokenizers.pre_tokenizers import ByteLevel\n",
        "from tensorflow.keras.models import Sequential\n",
        "from tensorflow.keras.layers import Embedding, LSTM, Dense, Dropout, Bidirectional\n",
        "from google.colab import userdata"
      ],
      "metadata": {
        "id": "z2r2HCep86uI",
        "trusted": true,
        "execution": {
          "iopub.status.busy": "2025-10-30T10:42:04.742943Z",
          "iopub.execute_input": "2025-10-30T10:42:04.743263Z",
          "iopub.status.idle": "2025-10-30T10:42:04.757858Z",
          "shell.execute_reply.started": "2025-10-30T10:42:04.743240Z",
          "shell.execute_reply": "2025-10-30T10:42:04.757218Z"
        }
      },
      "outputs": [],
      "execution_count": 4
    },
    {
      "cell_type": "markdown",
      "source": [
        "# Download Dataset"
      ],
      "metadata": {
        "id": "ArKAv9XEJKtu"
      }
    },
    {
      "cell_type": "code",
      "source": [
        "# Download dataset\n",
        "os.environ['KAGGLE_USERNAME'] = userdata.get('KAGGLE_USERNAME')\n",
        "os.environ['KAGGLE_KEY'] = userdata.get('KAGGLE_KEY')\n",
        "\n",
        "#!/bin/bash\n",
        "!kaggle datasets download clmentbisaillon/fake-and-real-news-dataset\n",
        "!unzip fake-and-real-news-dataset.zip"
      ],
      "metadata": {
        "id": "Z-CUhpoV8ld6",
        "outputId": "0c5c828c-e79f-4051-efbc-24be596d03ed",
        "trusted": true,
        "execution": {
          "iopub.status.busy": "2025-10-30T10:35:48.115884Z",
          "iopub.execute_input": "2025-10-30T10:35:48.116430Z",
          "iopub.status.idle": "2025-10-30T10:35:48.119904Z",
          "shell.execute_reply.started": "2025-10-30T10:35:48.116399Z",
          "shell.execute_reply": "2025-10-30T10:35:48.119264Z"
        },
        "colab": {
          "base_uri": "https://localhost:8080/"
        }
      },
      "outputs": [
        {
          "output_type": "stream",
          "name": "stdout",
          "text": [
            "Dataset URL: https://www.kaggle.com/datasets/clmentbisaillon/fake-and-real-news-dataset\n",
            "License(s): CC-BY-NC-SA-4.0\n",
            "Downloading fake-and-real-news-dataset.zip to /content\n",
            "  0% 0.00/41.0M [00:00<?, ?B/s]\n",
            "100% 41.0M/41.0M [00:00<00:00, 1.68GB/s]\n",
            "Archive:  fake-and-real-news-dataset.zip\n",
            "  inflating: Fake.csv                \n",
            "  inflating: True.csv                \n"
          ]
        }
      ],
      "execution_count": 5
    },
    {
      "cell_type": "markdown",
      "source": [
        "# Load & Prepare Dataset"
      ],
      "metadata": {
        "id": "iyw1sK7GJMQ8"
      }
    },
    {
      "cell_type": "code",
      "source": [
        "# Loading the datasets\n",
        "true_ds = pd.read_csv(\"True.csv\")\n",
        "fake_ds = pd.read_csv(\"Fake.csv\")\n",
        "\n",
        "# Add lables\n",
        "true_ds['label'] = 1\n",
        "fake_ds['label'] = 0\n",
        "\n",
        "# Concat dataframes and shuffle data\n",
        "df = pd.concat([true_ds, fake_ds]).sample(frac=1, random_state=42).reset_index(drop=True)\n",
        "df = df[['title', 'label']]\n",
        "\n",
        "print(f\"Dataset size: {len(df)}\")\n",
        "print(df['label'].value_counts())"
      ],
      "metadata": {
        "id": "n7-A9CKe9PXP",
        "outputId": "60f978d0-b456-43b0-d7e4-22759796fc7e",
        "trusted": true,
        "execution": {
          "iopub.status.busy": "2025-10-30T10:43:18.490410Z",
          "iopub.execute_input": "2025-10-30T10:43:18.490934Z",
          "iopub.status.idle": "2025-10-30T10:43:19.791631Z",
          "shell.execute_reply.started": "2025-10-30T10:43:18.490911Z",
          "shell.execute_reply": "2025-10-30T10:43:19.790927Z"
        },
        "colab": {
          "base_uri": "https://localhost:8080/"
        }
      },
      "outputs": [
        {
          "output_type": "stream",
          "name": "stdout",
          "text": [
            "Dataset size: 44898\n",
            "label\n",
            "0    23481\n",
            "1    21417\n",
            "Name: count, dtype: int64\n"
          ]
        }
      ],
      "execution_count": 6
    },
    {
      "cell_type": "markdown",
      "source": [
        "# Split Dataset"
      ],
      "metadata": {
        "id": "sGDnI4NHJOn6"
      }
    },
    {
      "cell_type": "code",
      "source": [
        "# Train-Test Split\n",
        "\n",
        "X_train, X_test, y_train, y_test = train_test_split(\n",
        "    df['title'], df['label'], test_size=0.2, random_state=42, stratify=df['label']\n",
        ")"
      ],
      "metadata": {
        "trusted": true,
        "execution": {
          "iopub.status.busy": "2025-10-30T10:43:37.561555Z",
          "iopub.execute_input": "2025-10-30T10:43:37.561991Z",
          "iopub.status.idle": "2025-10-30T10:43:37.585640Z",
          "shell.execute_reply.started": "2025-10-30T10:43:37.561961Z",
          "shell.execute_reply": "2025-10-30T10:43:37.585080Z"
        },
        "id": "OwVnntsIFptc"
      },
      "outputs": [],
      "execution_count": 7
    },
    {
      "cell_type": "markdown",
      "source": [
        "# BPE"
      ],
      "metadata": {
        "id": "044Rdv6kJWz4"
      }
    },
    {
      "cell_type": "code",
      "source": [
        "# Tokenization (Byte-Pair Encoding)\n",
        "\n",
        "def train_bpe_tokenizer(texts, vocab_size=12000):\n",
        "    tokenizer = Tokenizer(BPE(unk_token=\"<unk>\"))\n",
        "    tokenizer.pre_tokenizer = ByteLevel(add_prefix_space=True)\n",
        "    trainer = BpeTrainer(\n",
        "        vocab_size=vocab_size,\n",
        "        min_frequency=2,\n",
        "        special_tokens=[\"<pad>\", \"<unk>\"]\n",
        "    )\n",
        "    # Save training text\n",
        "    with open(\"train_texts.txt\", \"w\", encoding=\"utf-8\") as f:\n",
        "        for line in texts:\n",
        "            f.write(str(line) + \"\\n\")\n",
        "    tokenizer.train(files=[\"train_texts.txt\"], trainer=trainer)\n",
        "    return tokenizer\n",
        "\n",
        "tokenizer = train_bpe_tokenizer(X_train, vocab_size=12000)\n",
        "pad_token_id = tokenizer.token_to_id(\"<pad>\")\n",
        "vocab_size = tokenizer.get_vocab_size()\n",
        "max_len = 40"
      ],
      "metadata": {
        "id": "krlQL1ykBgvf",
        "trusted": true,
        "execution": {
          "iopub.status.busy": "2025-10-30T10:43:56.202718Z",
          "iopub.execute_input": "2025-10-30T10:43:56.203471Z",
          "iopub.status.idle": "2025-10-30T10:43:57.346180Z",
          "shell.execute_reply.started": "2025-10-30T10:43:56.203443Z",
          "shell.execute_reply": "2025-10-30T10:43:57.345373Z"
        }
      },
      "outputs": [],
      "execution_count": 8
    },
    {
      "cell_type": "markdown",
      "source": [
        "# Encoding"
      ],
      "metadata": {
        "id": "PdpYsyDFJX7Y"
      }
    },
    {
      "cell_type": "code",
      "source": [
        "def encode_texts(tokenizer, texts, max_len):\n",
        "    encoded = tokenizer.encode_batch([str(t) for t in texts])\n",
        "    sequences = []\n",
        "    for e in encoded:\n",
        "        ids = e.ids[:max_len]\n",
        "        padded = ids + [pad_token_id] * (max_len - len(ids))\n",
        "        sequences.append(padded)\n",
        "    return np.array(sequences)\n",
        "\n",
        "X_train_enc = encode_texts(tokenizer, X_train, max_len)\n",
        "X_test_enc = encode_texts(tokenizer, X_test, max_len)\n",
        "\n",
        "print(f\"Encoded train shape: {X_train_enc.shape}\")\n",
        "print(f\"Encoded test shape: {X_test_enc.shape}\")"
      ],
      "metadata": {
        "trusted": true,
        "execution": {
          "iopub.status.busy": "2025-10-30T10:44:03.862132Z",
          "iopub.execute_input": "2025-10-30T10:44:03.862787Z",
          "iopub.status.idle": "2025-10-30T10:44:05.092916Z",
          "shell.execute_reply.started": "2025-10-30T10:44:03.862764Z",
          "shell.execute_reply": "2025-10-30T10:44:05.092237Z"
        },
        "colab": {
          "base_uri": "https://localhost:8080/"
        },
        "id": "vnAvtLQJFpte",
        "outputId": "ef9f0771-4d4a-49f4-b508-556b6acfdd7e"
      },
      "outputs": [
        {
          "output_type": "stream",
          "name": "stdout",
          "text": [
            "Encoded train shape: (35918, 40)\n",
            "Encoded test shape: (8980, 40)\n"
          ]
        }
      ],
      "execution_count": 9
    },
    {
      "cell_type": "markdown",
      "source": [
        "# Model Definition"
      ],
      "metadata": {
        "id": "diQsZsb2Ja2X"
      }
    },
    {
      "cell_type": "code",
      "source": [
        "# Model Architecture\n",
        "\n",
        "model = Sequential([\n",
        "    Embedding(input_dim=vocab_size, output_dim=128, input_length=max_len),\n",
        "    Bidirectional(LSTM(128, return_sequences=True, dropout=0.3, recurrent_dropout=0.3)),\n",
        "    Bidirectional(LSTM(64, dropout=0.3, recurrent_dropout=0.3)),\n",
        "    Dense(64, activation='relu'),\n",
        "    Dropout(0.5),\n",
        "    Dense(1, activation='sigmoid')\n",
        "])\n",
        "\n",
        "model.compile(\n",
        "    optimizer=tf.keras.optimizers.Adam(learning_rate=2e-4),\n",
        "    loss='binary_crossentropy',\n",
        "    metrics=['accuracy']\n",
        ")\n",
        "\n",
        "model.summary()"
      ],
      "metadata": {
        "id": "nFefYYpxBgoI",
        "outputId": "a4fb3268-b773-4bb6-d16e-177245bc9a92",
        "trusted": true,
        "execution": {
          "iopub.status.busy": "2025-10-30T10:44:24.440390Z",
          "iopub.execute_input": "2025-10-30T10:44:24.440944Z",
          "iopub.status.idle": "2025-10-30T10:44:25.426110Z",
          "shell.execute_reply.started": "2025-10-30T10:44:24.440919Z",
          "shell.execute_reply": "2025-10-30T10:44:25.425578Z"
        },
        "colab": {
          "base_uri": "https://localhost:8080/",
          "height": 375
        }
      },
      "outputs": [
        {
          "output_type": "stream",
          "name": "stderr",
          "text": [
            "/usr/local/lib/python3.12/dist-packages/keras/src/layers/core/embedding.py:97: UserWarning: Argument `input_length` is deprecated. Just remove it.\n",
            "  warnings.warn(\n"
          ]
        },
        {
          "output_type": "display_data",
          "data": {
            "text/plain": [
              "\u001b[1mModel: \"sequential\"\u001b[0m\n"
            ],
            "text/html": [
              "<pre style=\"white-space:pre;overflow-x:auto;line-height:normal;font-family:Menlo,'DejaVu Sans Mono',consolas,'Courier New',monospace\"><span style=\"font-weight: bold\">Model: \"sequential\"</span>\n",
              "</pre>\n"
            ]
          },
          "metadata": {}
        },
        {
          "output_type": "display_data",
          "data": {
            "text/plain": [
              "┏━━━━━━━━━━━━━━━━━━━━━━━━━━━━━━━━━┳━━━━━━━━━━━━━━━━━━━━━━━━┳━━━━━━━━━━━━━━━┓\n",
              "┃\u001b[1m \u001b[0m\u001b[1mLayer (type)                   \u001b[0m\u001b[1m \u001b[0m┃\u001b[1m \u001b[0m\u001b[1mOutput Shape          \u001b[0m\u001b[1m \u001b[0m┃\u001b[1m \u001b[0m\u001b[1m      Param #\u001b[0m\u001b[1m \u001b[0m┃\n",
              "┡━━━━━━━━━━━━━━━━━━━━━━━━━━━━━━━━━╇━━━━━━━━━━━━━━━━━━━━━━━━╇━━━━━━━━━━━━━━━┩\n",
              "│ embedding (\u001b[38;5;33mEmbedding\u001b[0m)           │ ?                      │   \u001b[38;5;34m0\u001b[0m (unbuilt) │\n",
              "├─────────────────────────────────┼────────────────────────┼───────────────┤\n",
              "│ bidirectional (\u001b[38;5;33mBidirectional\u001b[0m)   │ ?                      │   \u001b[38;5;34m0\u001b[0m (unbuilt) │\n",
              "├─────────────────────────────────┼────────────────────────┼───────────────┤\n",
              "│ bidirectional_1 (\u001b[38;5;33mBidirectional\u001b[0m) │ ?                      │   \u001b[38;5;34m0\u001b[0m (unbuilt) │\n",
              "├─────────────────────────────────┼────────────────────────┼───────────────┤\n",
              "│ dense (\u001b[38;5;33mDense\u001b[0m)                   │ ?                      │   \u001b[38;5;34m0\u001b[0m (unbuilt) │\n",
              "├─────────────────────────────────┼────────────────────────┼───────────────┤\n",
              "│ dropout (\u001b[38;5;33mDropout\u001b[0m)               │ ?                      │             \u001b[38;5;34m0\u001b[0m │\n",
              "├─────────────────────────────────┼────────────────────────┼───────────────┤\n",
              "│ dense_1 (\u001b[38;5;33mDense\u001b[0m)                 │ ?                      │   \u001b[38;5;34m0\u001b[0m (unbuilt) │\n",
              "└─────────────────────────────────┴────────────────────────┴───────────────┘\n"
            ],
            "text/html": [
              "<pre style=\"white-space:pre;overflow-x:auto;line-height:normal;font-family:Menlo,'DejaVu Sans Mono',consolas,'Courier New',monospace\">┏━━━━━━━━━━━━━━━━━━━━━━━━━━━━━━━━━┳━━━━━━━━━━━━━━━━━━━━━━━━┳━━━━━━━━━━━━━━━┓\n",
              "┃<span style=\"font-weight: bold\"> Layer (type)                    </span>┃<span style=\"font-weight: bold\"> Output Shape           </span>┃<span style=\"font-weight: bold\">       Param # </span>┃\n",
              "┡━━━━━━━━━━━━━━━━━━━━━━━━━━━━━━━━━╇━━━━━━━━━━━━━━━━━━━━━━━━╇━━━━━━━━━━━━━━━┩\n",
              "│ embedding (<span style=\"color: #0087ff; text-decoration-color: #0087ff\">Embedding</span>)           │ ?                      │   <span style=\"color: #00af00; text-decoration-color: #00af00\">0</span> (unbuilt) │\n",
              "├─────────────────────────────────┼────────────────────────┼───────────────┤\n",
              "│ bidirectional (<span style=\"color: #0087ff; text-decoration-color: #0087ff\">Bidirectional</span>)   │ ?                      │   <span style=\"color: #00af00; text-decoration-color: #00af00\">0</span> (unbuilt) │\n",
              "├─────────────────────────────────┼────────────────────────┼───────────────┤\n",
              "│ bidirectional_1 (<span style=\"color: #0087ff; text-decoration-color: #0087ff\">Bidirectional</span>) │ ?                      │   <span style=\"color: #00af00; text-decoration-color: #00af00\">0</span> (unbuilt) │\n",
              "├─────────────────────────────────┼────────────────────────┼───────────────┤\n",
              "│ dense (<span style=\"color: #0087ff; text-decoration-color: #0087ff\">Dense</span>)                   │ ?                      │   <span style=\"color: #00af00; text-decoration-color: #00af00\">0</span> (unbuilt) │\n",
              "├─────────────────────────────────┼────────────────────────┼───────────────┤\n",
              "│ dropout (<span style=\"color: #0087ff; text-decoration-color: #0087ff\">Dropout</span>)               │ ?                      │             <span style=\"color: #00af00; text-decoration-color: #00af00\">0</span> │\n",
              "├─────────────────────────────────┼────────────────────────┼───────────────┤\n",
              "│ dense_1 (<span style=\"color: #0087ff; text-decoration-color: #0087ff\">Dense</span>)                 │ ?                      │   <span style=\"color: #00af00; text-decoration-color: #00af00\">0</span> (unbuilt) │\n",
              "└─────────────────────────────────┴────────────────────────┴───────────────┘\n",
              "</pre>\n"
            ]
          },
          "metadata": {}
        },
        {
          "output_type": "display_data",
          "data": {
            "text/plain": [
              "\u001b[1m Total params: \u001b[0m\u001b[38;5;34m0\u001b[0m (0.00 B)\n"
            ],
            "text/html": [
              "<pre style=\"white-space:pre;overflow-x:auto;line-height:normal;font-family:Menlo,'DejaVu Sans Mono',consolas,'Courier New',monospace\"><span style=\"font-weight: bold\"> Total params: </span><span style=\"color: #00af00; text-decoration-color: #00af00\">0</span> (0.00 B)\n",
              "</pre>\n"
            ]
          },
          "metadata": {}
        },
        {
          "output_type": "display_data",
          "data": {
            "text/plain": [
              "\u001b[1m Trainable params: \u001b[0m\u001b[38;5;34m0\u001b[0m (0.00 B)\n"
            ],
            "text/html": [
              "<pre style=\"white-space:pre;overflow-x:auto;line-height:normal;font-family:Menlo,'DejaVu Sans Mono',consolas,'Courier New',monospace\"><span style=\"font-weight: bold\"> Trainable params: </span><span style=\"color: #00af00; text-decoration-color: #00af00\">0</span> (0.00 B)\n",
              "</pre>\n"
            ]
          },
          "metadata": {}
        },
        {
          "output_type": "display_data",
          "data": {
            "text/plain": [
              "\u001b[1m Non-trainable params: \u001b[0m\u001b[38;5;34m0\u001b[0m (0.00 B)\n"
            ],
            "text/html": [
              "<pre style=\"white-space:pre;overflow-x:auto;line-height:normal;font-family:Menlo,'DejaVu Sans Mono',consolas,'Courier New',monospace\"><span style=\"font-weight: bold\"> Non-trainable params: </span><span style=\"color: #00af00; text-decoration-color: #00af00\">0</span> (0.00 B)\n",
              "</pre>\n"
            ]
          },
          "metadata": {}
        }
      ],
      "execution_count": 10
    },
    {
      "cell_type": "markdown",
      "source": [
        "# Training"
      ],
      "metadata": {
        "id": "YBUjQ-0RJfH_"
      }
    },
    {
      "cell_type": "code",
      "source": [
        "# Training\n",
        "\n",
        "history = model.fit(\n",
        "    X_train_enc, y_train,\n",
        "    validation_data=(X_test_enc, y_test),\n",
        "    epochs=8,\n",
        "    batch_size=64,\n",
        "    callbacks=[\n",
        "        tf.keras.callbacks.EarlyStopping(patience=2, restore_best_weights=True)\n",
        "    ],\n",
        "    verbose=1\n",
        ")"
      ],
      "metadata": {
        "id": "_rVcdv6zBgiX",
        "outputId": "e801c348-dd5d-4aee-8ca2-5e863feb1369",
        "trusted": true,
        "execution": {
          "iopub.status.busy": "2025-10-30T10:44:37.259485Z",
          "iopub.execute_input": "2025-10-30T10:44:37.259761Z",
          "iopub.status.idle": "2025-10-30T11:08:33.690986Z",
          "shell.execute_reply.started": "2025-10-30T10:44:37.259736Z",
          "shell.execute_reply": "2025-10-30T11:08:33.690377Z"
        },
        "colab": {
          "base_uri": "https://localhost:8080/"
        }
      },
      "outputs": [
        {
          "output_type": "stream",
          "name": "stdout",
          "text": [
            "Epoch 1/8\n",
            "\u001b[1m562/562\u001b[0m \u001b[32m━━━━━━━━━━━━━━━━━━━━\u001b[0m\u001b[37m\u001b[0m \u001b[1m284s\u001b[0m 474ms/step - accuracy: 0.8623 - loss: 0.2846 - val_accuracy: 0.9978 - val_loss: 0.0064\n",
            "Epoch 2/8\n",
            "\u001b[1m562/562\u001b[0m \u001b[32m━━━━━━━━━━━━━━━━━━━━\u001b[0m\u001b[37m\u001b[0m \u001b[1m310s\u001b[0m 462ms/step - accuracy: 0.9986 - loss: 0.0056 - val_accuracy: 0.9994 - val_loss: 0.0028\n",
            "Epoch 3/8\n",
            "\u001b[1m562/562\u001b[0m \u001b[32m━━━━━━━━━━━━━━━━━━━━\u001b[0m\u001b[37m\u001b[0m \u001b[1m260s\u001b[0m 462ms/step - accuracy: 0.9996 - loss: 0.0018 - val_accuracy: 0.9992 - val_loss: 0.0024\n",
            "Epoch 4/8\n",
            "\u001b[1m562/562\u001b[0m \u001b[32m━━━━━━━━━━━━━━━━━━━━\u001b[0m\u001b[37m\u001b[0m \u001b[1m260s\u001b[0m 458ms/step - accuracy: 0.9998 - loss: 8.1438e-04 - val_accuracy: 0.9993 - val_loss: 0.0020\n",
            "Epoch 5/8\n",
            "\u001b[1m562/562\u001b[0m \u001b[32m━━━━━━━━━━━━━━━━━━━━\u001b[0m\u001b[37m\u001b[0m \u001b[1m259s\u001b[0m 461ms/step - accuracy: 0.9999 - loss: 4.4371e-04 - val_accuracy: 0.9984 - val_loss: 0.0058\n",
            "Epoch 6/8\n",
            "\u001b[1m562/562\u001b[0m \u001b[32m━━━━━━━━━━━━━━━━━━━━\u001b[0m\u001b[37m\u001b[0m \u001b[1m265s\u001b[0m 465ms/step - accuracy: 0.9997 - loss: 8.0050e-04 - val_accuracy: 0.9987 - val_loss: 0.0048\n"
          ]
        }
      ],
      "execution_count": 11
    },
    {
      "cell_type": "markdown",
      "source": [
        "# Evaluation"
      ],
      "metadata": {
        "id": "hOv6S7ylJibv"
      }
    },
    {
      "cell_type": "code",
      "source": [
        "# Evaluation\n",
        "\n",
        "loss, acc = model.evaluate(X_test_enc, y_test)\n",
        "print(f\"\\n✅ Test Accuracy: {acc:.4f}\")\n",
        "\n",
        "# Classification report\n",
        "y_pred = (model.predict(X_test_enc) > 0.5).astype(int)\n",
        "print(\"\\n\", classification_report(y_test, y_pred, digits=4))\n",
        "\n",
        "# Confusion matrix\n",
        "plt.figure(figsize=(4, 4))\n",
        "sns = __import__(\"seaborn\")\n",
        "sns.heatmap(confusion_matrix(y_test, y_pred), annot=True, fmt=\"d\", cmap=\"Blues\")\n",
        "plt.xlabel(\"Predicted\"); plt.ylabel(\"True\")\n",
        "plt.title(\"Confusion Matrix\")\n",
        "plt.show()"
      ],
      "metadata": {
        "id": "AckjFjURKQN8",
        "trusted": true,
        "execution": {
          "iopub.status.busy": "2025-10-30T11:08:33.692412Z",
          "iopub.execute_input": "2025-10-30T11:08:33.692628Z",
          "iopub.status.idle": "2025-10-30T11:09:12.063865Z",
          "shell.execute_reply.started": "2025-10-30T11:08:33.692611Z",
          "shell.execute_reply": "2025-10-30T11:09:12.063059Z"
        },
        "colab": {
          "base_uri": "https://localhost:8080/",
          "height": 653
        },
        "outputId": "4160b41f-054e-4a28-da03-6ddfe0e40828"
      },
      "outputs": [
        {
          "output_type": "stream",
          "name": "stdout",
          "text": [
            "\u001b[1m281/281\u001b[0m \u001b[32m━━━━━━━━━━━━━━━━━━━━\u001b[0m\u001b[37m\u001b[0m \u001b[1m22s\u001b[0m 79ms/step - accuracy: 0.9995 - loss: 0.0018\n",
            "\n",
            "✅ Test Accuracy: 0.9993\n",
            "\u001b[1m281/281\u001b[0m \u001b[32m━━━━━━━━━━━━━━━━━━━━\u001b[0m\u001b[37m\u001b[0m \u001b[1m24s\u001b[0m 81ms/step\n",
            "\n",
            "               precision    recall  f1-score   support\n",
            "\n",
            "           0     0.9991    0.9996    0.9994      4696\n",
            "           1     0.9995    0.9991    0.9993      4284\n",
            "\n",
            "    accuracy                         0.9993      8980\n",
            "   macro avg     0.9993    0.9993    0.9993      8980\n",
            "weighted avg     0.9993    0.9993    0.9993      8980\n",
            "\n"
          ]
        },
        {
          "output_type": "display_data",
          "data": {
            "text/plain": [
              "<Figure size 400x400 with 2 Axes>"
            ],
            "image/png": "[encoded data removed]"
          },
          "metadata": {}
        }
      ],
      "execution_count": 12
    },
    {
      "cell_type": "markdown",
      "source": [
        "# Training Curves"
      ],
      "metadata": {
        "id": "o9Wphcl6JlJD"
      }
    },
    {
      "cell_type": "code",
      "source": [
        "# Training Curves\n",
        "\n",
        "plt.figure(figsize=(12, 4))\n",
        "plt.subplot(1, 2, 1)\n",
        "plt.plot(history.history['accuracy'], label='Train Acc')\n",
        "plt.plot(history.history['val_accuracy'], label='Val Acc')\n",
        "plt.title('Accuracy'); plt.legend()\n",
        "\n",
        "plt.subplot(1, 2, 2)\n",
        "plt.plot(history.history['loss'], label='Train Loss')\n",
        "plt.plot(history.history['val_loss'], label='Val Loss')\n",
        "plt.title('Loss'); plt.legend()\n",
        "plt.show()"
      ],
      "metadata": {
        "id": "Lb8U7dgIMAzS",
        "trusted": true,
        "execution": {
          "iopub.status.busy": "2025-10-30T11:09:12.064761Z",
          "iopub.execute_input": "2025-10-30T11:09:12.065037Z",
          "iopub.status.idle": "2025-10-30T11:09:12.362947Z",
          "shell.execute_reply.started": "2025-10-30T11:09:12.065012Z",
          "shell.execute_reply": "2025-10-30T11:09:12.362215Z"
        },
        "colab": {
          "base_uri": "https://localhost:8080/",
          "height": 391
        },
        "outputId": "fab195ce-9589-49db-95f2-d08b960c5753"
      },
      "outputs": [
        {
          "output_type": "display_data",
          "data": {
            "text/plain": [
              "<Figure size 1200x400 with 2 Axes>"
            ],
            "image/png": "[encoded data removed]"
          },
          "metadata": {}
        }
      ],
      "execution_count": 13
    },
    {
      "cell_type": "code",
      "source": [],
      "metadata": {
        "id": "bpqexw3mMAwO",
        "trusted": true
      },
      "outputs": [],
      "execution_count": null
    }
  ]
}