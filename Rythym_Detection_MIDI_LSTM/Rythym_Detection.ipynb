{
  "nbformat": 4,
  "nbformat_minor": 0,
  "metadata": {
    "colab": {
      "provenance": [],
      "gpuType": "T4",
      "authorship_tag": "ABX9TyM/RJF7x+bcEac8nTRj3GWk",
      "include_colab_link": true
    },
    "kernelspec": {
      "name": "python3",
      "display_name": "Python 3"
    },
    "language_info": {
      "name": "python"
    },
    "accelerator": "GPU"
  },
  "cells": [
    {
      "cell_type": "markdown",
      "metadata": {
        "id": "view-in-github",
        "colab_type": "text"
      },
      "source": [
        "<a href=\"https://colab.research.google.com/github/mohammadreza-mohammadi94/Deep-Learning-Projects/blob/main/Rythym_Detection_MIDI_LSTM/Rythym_Detection.ipynb\" target=\"_parent\"><img src=\"https://colab.research.google.com/assets/colab-badge.svg\" alt=\"Open In Colab\"/></a>"
      ]
    },
    {
      "cell_type": "markdown",
      "source": [
        "# Import Frameworks and Setup Enviorment"
      ],
      "metadata": {
        "id": "V5lWxplj-wfH"
      }
    },
    {
      "cell_type": "code",
      "source": [
        "# Install required libraries\n",
        "!pip install -q music21 mido requests\n",
        "!pip install -q tensorflow"
      ],
      "metadata": {
        "colab": {
          "base_uri": "https://localhost:8080/"
        },
        "id": "6kLqH6Go_IG8",
        "outputId": "109a5a58-de6a-4d70-83d1-65543afa34eb"
      },
      "execution_count": null,
      "outputs": [
        {
          "output_type": "stream",
          "name": "stdout",
          "text": [
            "\u001b[?25l   \u001b[90m━━━━━━━━━━━━━━━━━━━━━━━━━━━━━━━━━━━━━━━━\u001b[0m \u001b[32m0.0/54.6 kB\u001b[0m \u001b[31m?\u001b[0m eta \u001b[36m-:--:--\u001b[0m\r\u001b[2K   \u001b[90m━━━━━━━━━━━━━━━━━━━━━━━━━━━━━━━━━━━━━━━━\u001b[0m \u001b[32m54.6/54.6 kB\u001b[0m \u001b[31m3.3 MB/s\u001b[0m eta \u001b[36m0:00:00\u001b[0m\n",
            "\u001b[?25h"
          ]
        }
      ]
    },
    {
      "cell_type": "code",
      "execution_count": null,
      "metadata": {
        "id": "004BOuJ7-kM3"
      },
      "outputs": [],
      "source": [
        "import os\n",
        "import numpy as np\n",
        "import tensorflow as tf\n",
        "from music21 import converter, note, chord\n",
        "import mido\n",
        "import requests\n",
        "import zipfile\n",
        "import io\n",
        "import tarfile\n",
        "\n",
        "from sklearn.model_selection import train_test_split\n",
        "from tensorflow.keras.models import Sequential\n",
        "from tensorflow.keras.layers import LSTM, Dense, Dropout"
      ]
    },
    {
      "cell_type": "code",
      "source": [
        "# Setup warning\n",
        "import warnings\n",
        "warnings.filterwarnings(\"ignore\")"
      ],
      "metadata": {
        "id": "M2k6ZG5r_U_N"
      },
      "execution_count": null,
      "outputs": []
    },
    {
      "cell_type": "code",
      "source": [
        "# Setup logger\n",
        "import logging\n",
        "logging.basicConfig(\n",
        "    format=\"%(asctime)s - %(levelname)s - %(message)s\",\n",
        "    level=logging.INFO,\n",
        "    handlers=[\n",
        "        logging.FileHandler('log.log'),\n",
        "        logging.StreamHandler()\n",
        "    ]\n",
        ")\n",
        "\n",
        "logger = logging.getLogger(__name__)"
      ],
      "metadata": {
        "id": "PXzdWNlG_U8l"
      },
      "execution_count": null,
      "outputs": []
    },
    {
      "cell_type": "markdown",
      "source": [
        "# Functions"
      ],
      "metadata": {
        "id": "va-v6_XJ_3VZ"
      }
    },
    {
      "cell_type": "code",
      "source": [
        "# !wget http://hog.ee.columbia.edu/craffel/lmd/lmd_full.tar.gz"
      ],
      "metadata": {
        "id": "UKJGQ6lyBPcc"
      },
      "execution_count": null,
      "outputs": []
    },
    {
      "cell_type": "markdown",
      "source": [
        "**Download Dataset**"
      ],
      "metadata": {
        "id": "e9nermZB_7s3"
      }
    },
    {
      "cell_type": "code",
      "source": [
        "def download_lakh_midi_dataset():\n",
        "    dataset_path = \"lmd_full\"\n",
        "    if not os.path.exists(dataset_path):\n",
        "        logger.info(\"Downloading Lakh MIDI Dataset...\")\n",
        "        try:\n",
        "            response = requests.get(\"http://hog.ee.columbia.edu/craffel/lmd/lmd_full.tar.gz\", stream=True)\n",
        "            response.raise_for_status()  # Check for HTTP errors\n",
        "            with tarfile.open(fileobj=io.BytesIO(response.content), mode=\"r:gz\") as tar:\n",
        "                tar.extractall(dataset_path)\n",
        "            logger.info(\"Dataset Extracted Successfully.\")\n",
        "        except Exception as e:\n",
        "            logger.error(f\"Failed to Download Or Extract Dataset: {str(e)}\")\n",
        "            raise  # Re-raise to stop execution if download fails\n",
        "    else:\n",
        "        logger.info(\"Dataset Already Exists...\")\n",
        "    return dataset_path"
      ],
      "metadata": {
        "id": "upwO8uW4_zhZ"
      },
      "execution_count": null,
      "outputs": []
    },
    {
      "cell_type": "code",
      "source": [],
      "metadata": {
        "id": "BOvoVG4lC2T9"
      },
      "execution_count": null,
      "outputs": []
    },
    {
      "cell_type": "markdown",
      "source": [
        "**Extract Rhythm From MIDI**"
      ],
      "metadata": {
        "id": "KaAkYmMsB37l"
      }
    },
    {
      "cell_type": "code",
      "source": [
        "def extract_rythm_from_midi(file_path):\n",
        "    logger.info(f\"Processing MIDI File: {file_path}\")\n",
        "    try:\n",
        "        midi = converter.parse(file_path)\n",
        "        rhythm_sequence = []\n",
        "        for element in midi.flat.notes:\n",
        "            if isinstance(element, (note.Note, chord.Chord)):\n",
        "                duration = element.quarterLength\n",
        "                rhythm_sequence.append(float(duration))\n",
        "        logger.debug(f\"Extracted rhythm sequence of length: {len(rhythm_sequence)} \\\n",
        "        From {file_path}\")\n",
        "        return rhythm_sequence[:100]\n",
        "    except Exception as e:\n",
        "        logger.error(f\"Error processing {file_path}: {str(e)}\")\n",
        "        return None"
      ],
      "metadata": {
        "id": "0PWQH-oZAV-O"
      },
      "execution_count": null,
      "outputs": []
    },
    {
      "cell_type": "code",
      "source": [],
      "metadata": {
        "id": "zaqbe_CLDzIq"
      },
      "execution_count": null,
      "outputs": []
    },
    {
      "cell_type": "markdown",
      "source": [
        "**Preparing Data**"
      ],
      "metadata": {
        "id": "xLM1T4BtC4B3"
      }
    },
    {
      "cell_type": "code",
      "source": [
        "def prepare_dataset(midi_files, sequence_length=50):\n",
        "    logger.info(\"Preparing Dataset...\")\n",
        "    X, y = [], []\n",
        "    for file in midi_files[:100]:\n",
        "        rhythm = extract_rythm_from_midi(file)\n",
        "        if rhythm and len(rhythm) >= sequence_length:\n",
        "            for i in range(0, len(rhythm) - sequence_length):\n",
        "                X.append(rhythm[i:i + sequence_length])\n",
        "                y.append(rhythm[i + sequence_length])\n",
        "    if not X or not y:\n",
        "        logger.error(\"No valid data extracted from MIDI files. Check dataset or MIDI parsing.\")\n",
        "        raise ValueError(\"No valid data to prepare dataset.\")\n",
        "    X = np.array(X)\n",
        "    y = np.array(y)\n",
        "    X = X.reshape((X.shape[0], X.shape[1], 1))\n",
        "    logger.info(f\"Dataset prepared: X Shape: {X.shape}, y shape: {y.shape}\")\n",
        "    return X, y"
      ],
      "metadata": {
        "id": "YELLV_PkC3zS"
      },
      "execution_count": null,
      "outputs": []
    },
    {
      "cell_type": "code",
      "source": [],
      "metadata": {
        "id": "8zgPMDLSC3wa"
      },
      "execution_count": null,
      "outputs": []
    },
    {
      "cell_type": "markdown",
      "source": [
        "**Build Model**"
      ],
      "metadata": {
        "id": "tPXKILUZD2SP"
      }
    },
    {
      "cell_type": "code",
      "source": [
        "def build_rnn_model(sequence_length):\n",
        "    logger.info(\"Building RNN Model...\")\n",
        "    model = Sequential([\n",
        "        LSTM(128, input_shape=(sequence_length, 1), return_sequences=True),\n",
        "        Dropout(0.3),\n",
        "        LSTM(64),\n",
        "        Dropout(0.3),\n",
        "        Dense(32, activation='relu'),\n",
        "        Dense(1, activation='linear')\n",
        "    ])\n",
        "    model.compile(optimizer='adam', loss='mse')\n",
        "    logger.info(\"Model built successfully.\")\n",
        "    return model"
      ],
      "metadata": {
        "id": "SOpLAk26C3tR"
      },
      "execution_count": null,
      "outputs": []
    },
    {
      "cell_type": "code",
      "source": [],
      "metadata": {
        "id": "Hk_gK9ucEWw2"
      },
      "execution_count": null,
      "outputs": []
    },
    {
      "cell_type": "markdown",
      "source": [
        "**Collect MIDI Files**"
      ],
      "metadata": {
        "id": "SjLeaUn_ETmF"
      }
    },
    {
      "cell_type": "code",
      "source": [
        "def get_midi_files(dataset_path):\n",
        "    logger.info(\"Collecting MIDI files...\")\n",
        "    midi_files = []\n",
        "    for root, _, files in os.walk(dataset_path):\n",
        "        for file in files:\n",
        "            if file.endswith(('.mid', '.midi')):\n",
        "                midi_files.append(os.path.join(root, file))\n",
        "    logger.info(f\"Found {len(midi_files)} MIDI files.\")\n",
        "    return midi_files"
      ],
      "metadata": {
        "id": "dG-gdncTC3qG"
      },
      "execution_count": null,
      "outputs": []
    },
    {
      "cell_type": "code",
      "source": [],
      "metadata": {
        "id": "dfJf-Yh9EXY5"
      },
      "execution_count": null,
      "outputs": []
    },
    {
      "cell_type": "markdown",
      "source": [
        "**Main**"
      ],
      "metadata": {
        "id": "RDBr3MGwEZYj"
      }
    },
    {
      "cell_type": "code",
      "source": [
        "logger.info(\"Starting rhythm detection....\")\n",
        "# Download dataset\n",
        "dataset_path = download_lakh_midi_dataset()\n",
        "midi_files = get_midi_files(dataset_path)\n",
        "\n",
        "# Preparing data\n",
        "sequence_length = 50\n",
        "X,y = prepare_dataset(midi_files, sequence_length)\n",
        "\n",
        "# Split Train/Test\n",
        "logger.info(\"Splitting data into train/test sets...\")\n",
        "X_train, X_test, y_train, y_test = train_test_split(X, y, test_size=0.2,\n",
        "                                                    random_state=42)\n",
        "logger.info(f\"Train Set: X: {X_train.shape}, y: {y_train.shape}\")\n",
        "logger.info(f\"Test Set: X: {X_test.shape}, y: {y_test.shape}\")\n",
        "\n",
        "# Creating Model\n",
        "model = build_rnn_model(sequence_length)\n",
        "model.summary()\n",
        "logger.info(\"Training Model...\")\n",
        "history = model.fit(X_train, y_train,\n",
        "                    epochs=20,\n",
        "                    batch_size=64,\n",
        "                    validation_data=(X_test, y_test))\n",
        "logger.info(\"Training Completed..\")\n",
        "\n",
        "# Evaluating the model\n",
        "logger.info(\"Evaluating model...\")\n",
        "loss = model.evaluate(X_test, y_test)\n",
        "logger.info(f\"Test loss: {loss}\")\n",
        "\n",
        "# Saving the model for future use\n",
        "model.save(\"rhythm_detection_model.h5\")\n",
        "logger.info(\"Model saved as rhythm_detection_model.h5\")"
      ],
      "metadata": {
        "colab": {
          "base_uri": "https://localhost:8080/"
        },
        "id": "GOYKPD66EaJS",
        "outputId": "0c7931c6-d92f-46a4-80c5-9e57808fe904"
      },
      "execution_count": null,
      "outputs": [
        {
          "output_type": "stream",
          "name": "stderr",
          "text": [
            "ERROR:__main__:Error processing lmd_full/lmd_full/1/18052170c11b1b02209ccc4237b7a8c7.mid: badly formed midi string: missing leading MTrk\n"
          ]
        }
      ]
    },
    {
      "cell_type": "code",
      "source": [],
      "metadata": {
        "id": "--OtkhZbFaR_"
      },
      "execution_count": null,
      "outputs": []
    }
  ]
}