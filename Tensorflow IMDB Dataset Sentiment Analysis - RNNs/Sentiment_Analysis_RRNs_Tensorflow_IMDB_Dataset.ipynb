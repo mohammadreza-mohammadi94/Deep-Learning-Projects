{
  "nbformat": 4,
  "nbformat_minor": 0,
  "metadata": {
    "colab": {
      "provenance": [],
      "gpuType": "V28",
      "authorship_tag": "ABX9TyNFIZHDUtikvHeVmXXip3zN",
      "include_colab_link": true
    },
    "kernelspec": {
      "name": "python3",
      "display_name": "Python 3"
    },
    "language_info": {
      "name": "python"
    },
    "accelerator": "TPU"
  },
  "cells": [
    {
      "cell_type": "markdown",
      "metadata": {
        "id": "view-in-github",
        "colab_type": "text"
      },
      "source": [
        "<a href=\"https://colab.research.google.com/github/mohammadreza-mohammadi94/Deep-Learning-Projects/blob/main/Tensorflow%20IMDB%20Dataset%20Sentiment%20Analysis%20-%20RNNs/Sentiment_Analysis_RRNs_Tensorflow_IMDB_Dataset.ipynb\" target=\"_parent\"><img src=\"https://colab.research.google.com/assets/colab-badge.svg\" alt=\"Open In Colab\"/></a>"
      ]
    },
    {
      "cell_type": "code",
      "execution_count": 1,
      "metadata": {
        "id": "_0FFIJO24nql"
      },
      "outputs": [],
      "source": [
        "from tensorflow.keras.layers import (SimpleRNN,\n",
        "                                     LSTM,\n",
        "                                     GRU,\n",
        "                                     Embedding,\n",
        "                                     Bidirectional,\n",
        "                                     Dense)\n",
        "from tensorflow.keras.models import Sequential\n",
        "from tensorflow.keras.datasets import imdb\n",
        "from tensorflow.keras.preprocessing import sequence\n",
        "import numpy as np"
      ]
    },
    {
      "cell_type": "code",
      "source": [
        "(X_train, y_train), (X_test, y_test) = imdb.load_data(num_words=5000)\n",
        "\n",
        "print(X_train.shape)\n",
        "print(y_train.shape)\n",
        "print(X_test.shape)\n",
        "print(y_test.shape)"
      ],
      "metadata": {
        "colab": {
          "base_uri": "https://localhost:8080/"
        },
        "id": "HngY6zfg4-UT",
        "outputId": "0ee2f50f-4028-4519-8b96-3369ae9308d3"
      },
      "execution_count": 2,
      "outputs": [
        {
          "output_type": "stream",
          "name": "stdout",
          "text": [
            "Downloading data from https://storage.googleapis.com/tensorflow/tf-keras-datasets/imdb.npz\n",
            "17464789/17464789 [==============================] - 0s 0us/step\n",
            "(25000,)\n",
            "(25000,)\n",
            "(25000,)\n",
            "(25000,)\n"
          ]
        }
      ]
    },
    {
      "cell_type": "code",
      "source": [
        "word_idx = imdb.get_word_index()\n",
        "idx_word = {v: k for k, v in word_idx.items()}\n",
        "print([idx_word[i] for i in X_train[0]])\n",
        "# This reverses the mapping from word: index to index: word."
      ],
      "metadata": {
        "colab": {
          "base_uri": "https://localhost:8080/"
        },
        "id": "p2w8SIai5Ns8",
        "outputId": "924ffe43-8393-4606-9616-f1156a7610e9"
      },
      "execution_count": 3,
      "outputs": [
        {
          "output_type": "stream",
          "name": "stdout",
          "text": [
            "Downloading data from https://storage.googleapis.com/tensorflow/tf-keras-datasets/imdb_word_index.json\n",
            "1641221/1641221 [==============================] - 0s 0us/step\n",
            "['the', 'as', 'you', 'with', 'out', 'themselves', 'powerful', 'lets', 'loves', 'their', 'becomes', 'reaching', 'had', 'journalist', 'of', 'lot', 'from', 'anyone', 'to', 'have', 'after', 'out', 'atmosphere', 'never', 'more', 'room', 'and', 'it', 'so', 'heart', 'shows', 'to', 'years', 'of', 'every', 'never', 'going', 'and', 'help', 'moments', 'or', 'of', 'every', 'chest', 'visual', 'movie', 'except', 'her', 'was', 'several', 'of', 'enough', 'more', 'with', 'is', 'now', 'current', 'film', 'as', 'you', 'of', 'mine', 'potentially', 'unfortunately', 'of', 'you', 'than', 'him', 'that', 'with', 'out', 'themselves', 'her', 'get', 'for', 'was', 'camp', 'of', 'you', 'movie', 'sometimes', 'movie', 'that', 'with', 'scary', 'but', 'and', 'to', 'story', 'wonderful', 'that', 'in', 'seeing', 'in', 'character', 'to', 'of', '70s', 'and', 'with', 'heart', 'had', 'shadows', 'they', 'of', 'here', 'that', 'with', 'her', 'serious', 'to', 'have', 'does', 'when', 'from', 'why', 'what', 'have', 'critics', 'they', 'is', 'you', 'that', \"isn't\", 'one', 'will', 'very', 'to', 'as', 'itself', 'with', 'other', 'and', 'in', 'of', 'seen', 'over', 'and', 'for', 'anyone', 'of', 'and', 'br', \"show's\", 'to', 'whether', 'from', 'than', 'out', 'themselves', 'history', 'he', 'name', 'half', 'some', 'br', 'of', 'and', 'odd', 'was', 'two', 'most', 'of', 'mean', 'for', '1', 'any', 'an', 'boat', 'she', 'he', 'should', 'is', 'thought', 'and', 'but', 'of', 'script', 'you', 'not', 'while', 'history', 'he', 'heart', 'to', 'real', 'at', 'and', 'but', 'when', 'from', 'one', 'bit', 'then', 'have', 'two', 'of', 'script', 'their', 'with', 'her', 'nobody', 'most', 'that', 'with', \"wasn't\", 'to', 'with', 'armed', 'acting', 'watch', 'an', 'for', 'with', 'and', 'film', 'want', 'an']\n"
          ]
        }
      ]
    },
    {
      "cell_type": "code",
      "source": [
        "X_train = sequence.pad_sequences(X_train, maxlen=400)\n",
        "X_test = sequence.pad_sequences(X_test, maxlen=400)\n",
        "\n",
        "print(X_train.shape)\n",
        "print(X_test.shape)\n",
        "\n",
        "X_val, y_val = X_train[:64], y_train[:64]\n",
        "X_train_, y_train_ = X_train[64:], y_train[64:]\n",
        "\n",
        "print(X_val.shape)\n",
        "print(y_val.shape)\n",
        "print(X_train.shape)\n",
        "print(y_train.shape)"
      ],
      "metadata": {
        "colab": {
          "base_uri": "https://localhost:8080/"
        },
        "id": "x2x4OTgA6cxk",
        "outputId": "d645f9f5-aef6-4e9d-d1f5-1407585cfe0e"
      },
      "execution_count": 4,
      "outputs": [
        {
          "output_type": "stream",
          "name": "stdout",
          "text": [
            "(25000, 400)\n",
            "(25000, 400)\n",
            "(64, 400)\n",
            "(64,)\n",
            "(25000, 400)\n",
            "(25000,)\n"
          ]
        }
      ]
    },
    {
      "cell_type": "code",
      "source": [
        "# Check data types\n",
        "print(\"Data types:\")\n",
        "print(f\"X_train_ dtype: {X_train_.dtype}\")\n",
        "print(f\"y_train_ dtype: {y_train_.dtype}\")\n",
        "\n",
        "# Check values ranges\n",
        "print(\"\\nValue ranges:\")\n",
        "print(f\"X_train_ min: {X_train_.min()}, max: {X_train_.max()}\")\n",
        "print(f\"y_train_ unique values: {np.unique(y_train_)}\")  # Should be [0, 1]\n",
        "\n",
        "# Check for any NaN values\n",
        "print(\"\\nNaN check:\")\n",
        "print(f\"NaN in X_train_: {np.isnan(X_train_).any()}\")\n",
        "print(f\"NaN in y_train_: {np.isnan(y_train_).any()}\")"
      ],
      "metadata": {
        "colab": {
          "base_uri": "https://localhost:8080/"
        },
        "id": "y00GU9sZ-Xih",
        "outputId": "250da8f2-8726-4cab-ef52-148f8c3a2378"
      },
      "execution_count": 5,
      "outputs": [
        {
          "output_type": "stream",
          "name": "stdout",
          "text": [
            "Data types:\n",
            "X_train_ dtype: int32\n",
            "y_train_ dtype: int64\n",
            "\n",
            "Value ranges:\n",
            "X_train_ min: 0, max: 4999\n",
            "y_train_ unique values: [0 1]\n",
            "\n",
            "NaN check:\n",
            "NaN in X_train_: False\n",
            "NaN in y_train_: False\n"
          ]
        }
      ]
    },
    {
      "cell_type": "markdown",
      "source": [
        "# Define Model"
      ],
      "metadata": {
        "id": "K1sGSrM58bTm"
      }
    },
    {
      "cell_type": "markdown",
      "source": [
        "## 1. RNN"
      ],
      "metadata": {
        "id": "N0QYIDJt8dTU"
      }
    },
    {
      "cell_type": "code",
      "source": [
        "embedding_size = 32\n",
        "\n",
        "rnn_model = Sequential()\n",
        "rnn_model.add(Embedding(5000,\n",
        "                    embedding_size,\n",
        "                    input_length=400))\n",
        "rnn_model.add(SimpleRNN(128,\n",
        "                    activation='relu',\n",
        "                    return_sequences=False))\n",
        "rnn_model.add(Dense(1, activation='sigmoid'))\n",
        "\n",
        "rnn_model.compile(loss='binary_crossentropy',\n",
        "                optimizer='adam',\n",
        "                metrics=['accuracy'])\n",
        "\n",
        "rnn_model.summary()"
      ],
      "metadata": {
        "colab": {
          "base_uri": "https://localhost:8080/"
        },
        "id": "D77dfp2P7EEL",
        "outputId": "1f659d92-dc3e-4af9-d15c-247208d74705"
      },
      "execution_count": 6,
      "outputs": [
        {
          "output_type": "stream",
          "name": "stdout",
          "text": [
            "Model: \"sequential\"\n",
            "_________________________________________________________________\n",
            " Layer (type)                Output Shape              Param #   \n",
            "=================================================================\n",
            " embedding (Embedding)       (None, 400, 32)           160000    \n",
            "                                                                 \n",
            " simple_rnn (SimpleRNN)      (None, 128)               20608     \n",
            "                                                                 \n",
            " dense (Dense)               (None, 1)                 129       \n",
            "                                                                 \n",
            "=================================================================\n",
            "Total params: 180737 (706.00 KB)\n",
            "Trainable params: 180737 (706.00 KB)\n",
            "Non-trainable params: 0 (0.00 Byte)\n",
            "_________________________________________________________________\n"
          ]
        }
      ]
    },
    {
      "cell_type": "code",
      "source": [
        "hist_rnn = rnn_model.fit(X_train_, y_train_,\n",
        "              batch_size=64,\n",
        "              epochs=5,\n",
        "              validation_data=(X_val, y_val),\n",
        "              verbose=1)"
      ],
      "metadata": {
        "colab": {
          "base_uri": "https://localhost:8080/"
        },
        "id": "e1iV_kDI7EBe",
        "outputId": "c80a1c1c-83b8-49eb-fa0e-ad07855b9787"
      },
      "execution_count": 7,
      "outputs": [
        {
          "output_type": "stream",
          "name": "stdout",
          "text": [
            "Epoch 1/5\n",
            "390/390 [==============================] - 43s 107ms/step - loss: 0.6207 - accuracy: 0.6438 - val_loss: 0.5797 - val_accuracy: 0.7656\n",
            "Epoch 2/5\n",
            "390/390 [==============================] - 41s 104ms/step - loss: 0.4675 - accuracy: 0.7811 - val_loss: 0.5261 - val_accuracy: 0.7500\n",
            "Epoch 3/5\n",
            "390/390 [==============================] - 40s 104ms/step - loss: 0.3836 - accuracy: 0.8326 - val_loss: 0.3114 - val_accuracy: 0.8906\n",
            "Epoch 4/5\n",
            "390/390 [==============================] - 40s 104ms/step - loss: 0.3490 - accuracy: 0.8524 - val_loss: 0.4218 - val_accuracy: 0.8281\n",
            "Epoch 5/5\n",
            "390/390 [==============================] - 41s 104ms/step - loss: 2.1691 - accuracy: 0.7901 - val_loss: 0.6692 - val_accuracy: 0.5469\n"
          ]
        }
      ]
    },
    {
      "cell_type": "code",
      "source": [
        "rnn_model.evaluate(X_test, y_test)"
      ],
      "metadata": {
        "colab": {
          "base_uri": "https://localhost:8080/"
        },
        "id": "u062yZl7BOh1",
        "outputId": "94cc3fed-a92c-4fea-f089-b9d57138ab19"
      },
      "execution_count": 8,
      "outputs": [
        {
          "output_type": "stream",
          "name": "stdout",
          "text": [
            "782/782 [==============================] - 17s 21ms/step - loss: 0.6084 - accuracy: 0.6346\n"
          ]
        },
        {
          "output_type": "execute_result",
          "data": {
            "text/plain": [
              "[0.6083652973175049, 0.6345599889755249]"
            ]
          },
          "metadata": {},
          "execution_count": 8
        }
      ]
    },
    {
      "cell_type": "markdown",
      "source": [
        "## Gated Recurrent Unit (GRU)"
      ],
      "metadata": {
        "id": "wIpZxVJpBU7T"
      }
    },
    {
      "cell_type": "code",
      "source": [
        "gru_model = Sequential(name='GRU')\n",
        "gru_model.add(Embedding(5000,\n",
        "                    embedding_size,\n",
        "                    input_length=400))\n",
        "gru_model.add(GRU(128,\n",
        "                    activation='tanh',\n",
        "                    return_sequences=False))\n",
        "gru_model.add(Dense(1, activation='sigmoid'))\n",
        "\n",
        "gru_model.compile(loss='binary_crossentropy',\n",
        "                optimizer='adam',\n",
        "                metrics=['accuracy'])\n",
        "\n",
        "gru_model.summary()"
      ],
      "metadata": {
        "colab": {
          "base_uri": "https://localhost:8080/"
        },
        "id": "XgilacK27D-5",
        "outputId": "d7ccaef1-1124-4b85-d377-331692dcb37c"
      },
      "execution_count": 9,
      "outputs": [
        {
          "output_type": "stream",
          "name": "stdout",
          "text": [
            "Model: \"GRU\"\n",
            "_________________________________________________________________\n",
            " Layer (type)                Output Shape              Param #   \n",
            "=================================================================\n",
            " embedding_1 (Embedding)     (None, 400, 32)           160000    \n",
            "                                                                 \n",
            " gru (GRU)                   (None, 128)               62208     \n",
            "                                                                 \n",
            " dense_1 (Dense)             (None, 1)                 129       \n",
            "                                                                 \n",
            "=================================================================\n",
            "Total params: 222337 (868.50 KB)\n",
            "Trainable params: 222337 (868.50 KB)\n",
            "Non-trainable params: 0 (0.00 Byte)\n",
            "_________________________________________________________________\n"
          ]
        }
      ]
    },
    {
      "cell_type": "code",
      "source": [
        "hist_gru = gru_model.fit(X_train_, y_train_,\n",
        "              batch_size=64,\n",
        "              epochs=5,\n",
        "              validation_data=(X_val, y_val),\n",
        "              verbose=1)"
      ],
      "metadata": {
        "colab": {
          "base_uri": "https://localhost:8080/"
        },
        "id": "kgkcFuJe7D8V",
        "outputId": "c594b586-eb04-4adf-ad8d-0f23ca84cb69"
      },
      "execution_count": 10,
      "outputs": [
        {
          "output_type": "stream",
          "name": "stdout",
          "text": [
            "Epoch 1/5\n",
            "390/390 [==============================] - 162s 410ms/step - loss: 0.4875 - accuracy: 0.7471 - val_loss: 0.2388 - val_accuracy: 0.9219\n",
            "Epoch 2/5\n",
            "390/390 [==============================] - 153s 392ms/step - loss: 0.2981 - accuracy: 0.8778 - val_loss: 0.2684 - val_accuracy: 0.9062\n",
            "Epoch 3/5\n",
            "390/390 [==============================] - 152s 389ms/step - loss: 0.2427 - accuracy: 0.9060 - val_loss: 0.2748 - val_accuracy: 0.8594\n",
            "Epoch 4/5\n",
            "390/390 [==============================] - 151s 388ms/step - loss: 0.2128 - accuracy: 0.9167 - val_loss: 0.2181 - val_accuracy: 0.9219\n",
            "Epoch 5/5\n",
            "390/390 [==============================] - 150s 386ms/step - loss: 0.1638 - accuracy: 0.9405 - val_loss: 0.2427 - val_accuracy: 0.9062\n"
          ]
        }
      ]
    },
    {
      "cell_type": "code",
      "source": [
        "gru_model.evaluate(X_test, y_test)"
      ],
      "metadata": {
        "colab": {
          "base_uri": "https://localhost:8080/"
        },
        "id": "GHC7WOHzBt70",
        "outputId": "50ab6c49-23ee-4cad-f9d9-c17a362560d2"
      },
      "execution_count": 11,
      "outputs": [
        {
          "output_type": "stream",
          "name": "stdout",
          "text": [
            "782/782 [==============================] - 43s 54ms/step - loss: 0.3457 - accuracy: 0.8613\n"
          ]
        },
        {
          "output_type": "execute_result",
          "data": {
            "text/plain": [
              "[0.3457278609275818, 0.8613200187683105]"
            ]
          },
          "metadata": {},
          "execution_count": 11
        }
      ]
    },
    {
      "cell_type": "markdown",
      "source": [
        "## 3. LSTM"
      ],
      "metadata": {
        "id": "LcW-XhLnDq72"
      }
    },
    {
      "cell_type": "code",
      "source": [
        "lstm_model = Sequential(name=\"LSTM\")\n",
        "lstm_model.add(Embedding(5000,\n",
        "                    embedding_size,\n",
        "                    input_length=400))\n",
        "lstm_model.add(LSTM(128,\n",
        "                    activation='relu',\n",
        "                    return_sequences=False))\n",
        "lstm_model.add(Dense(1, activation='sigmoid'))\n",
        "\n",
        "lstm_model.compile(loss='binary_crossentropy',\n",
        "                optimizer='adam',\n",
        "                metrics=['accuracy'])"
      ],
      "metadata": {
        "id": "7kwtK-TkDqY7"
      },
      "execution_count": 12,
      "outputs": []
    },
    {
      "cell_type": "code",
      "source": [
        "lstm_model.summary()"
      ],
      "metadata": {
        "colab": {
          "base_uri": "https://localhost:8080/"
        },
        "id": "_Dw59bHfDqWe",
        "outputId": "92205cc1-1250-48ff-fbfa-826bb638720e"
      },
      "execution_count": 13,
      "outputs": [
        {
          "output_type": "stream",
          "name": "stdout",
          "text": [
            "Model: \"LSTM\"\n",
            "_________________________________________________________________\n",
            " Layer (type)                Output Shape              Param #   \n",
            "=================================================================\n",
            " embedding_2 (Embedding)     (None, 400, 32)           160000    \n",
            "                                                                 \n",
            " lstm (LSTM)                 (None, 128)               82432     \n",
            "                                                                 \n",
            " dense_2 (Dense)             (None, 1)                 129       \n",
            "                                                                 \n",
            "=================================================================\n",
            "Total params: 242561 (947.50 KB)\n",
            "Trainable params: 242561 (947.50 KB)\n",
            "Non-trainable params: 0 (0.00 Byte)\n",
            "_________________________________________________________________\n"
          ]
        }
      ]
    },
    {
      "cell_type": "code",
      "source": [
        "hist_lstm = lstm_model.fit(X_train_, y_train_,\n",
        "              batch_size=64,\n",
        "              epochs=5,\n",
        "              validation_data=(X_val, y_val),\n",
        "              verbose=1)"
      ],
      "metadata": {
        "colab": {
          "base_uri": "https://localhost:8080/"
        },
        "id": "o6u0Vd5YD96U",
        "outputId": "2e10f557-73ef-4392-86ac-bca44d1d931c"
      },
      "execution_count": 14,
      "outputs": [
        {
          "output_type": "stream",
          "name": "stdout",
          "text": [
            "Epoch 1/5\n",
            "390/390 [==============================] - 183s 464ms/step - loss: nan - accuracy: 0.5061 - val_loss: nan - val_accuracy: 0.6094\n",
            "Epoch 2/5\n",
            "390/390 [==============================] - 181s 465ms/step - loss: nan - accuracy: 0.4997 - val_loss: nan - val_accuracy: 0.6094\n",
            "Epoch 3/5\n",
            "390/390 [==============================] - 181s 465ms/step - loss: nan - accuracy: 0.4997 - val_loss: nan - val_accuracy: 0.6094\n",
            "Epoch 4/5\n",
            "390/390 [==============================] - 180s 462ms/step - loss: nan - accuracy: 0.4997 - val_loss: nan - val_accuracy: 0.6094\n",
            "Epoch 5/5\n",
            "390/390 [==============================] - 180s 463ms/step - loss: nan - accuracy: 0.4997 - val_loss: nan - val_accuracy: 0.6094\n"
          ]
        }
      ]
    },
    {
      "cell_type": "code",
      "source": [
        "lstm_model.evaluate(X_test, y_test, verbose=False)"
      ],
      "metadata": {
        "colab": {
          "base_uri": "https://localhost:8080/"
        },
        "id": "yo5ivl3YD9yl",
        "outputId": "3ba09e87-c5a2-4eb8-f5ba-b2bad2e9100c"
      },
      "execution_count": 15,
      "outputs": [
        {
          "output_type": "execute_result",
          "data": {
            "text/plain": [
              "[nan, 0.5]"
            ]
          },
          "metadata": {},
          "execution_count": 15
        }
      ]
    },
    {
      "cell_type": "markdown",
      "source": [
        "## Bidirectional LSTM"
      ],
      "metadata": {
        "id": "q3oQOZiVKbbX"
      }
    },
    {
      "cell_type": "code",
      "source": [
        "bi_lstm_model = Sequential(name=\"LSTM\")\n",
        "bi_lstm_model.add(Embedding(5000,\n",
        "                    embedding_size,\n",
        "                    input_length=400))\n",
        "bi_lstm_model.add(Bidirectional(LSTM(128,\n",
        "                    activation='relu',\n",
        "                    return_sequences=False)))\n",
        "bi_lstm_model.add(Dense(1, activation='sigmoid'))\n",
        "\n",
        "bi_lstm_model.compile(loss='binary_crossentropy',\n",
        "                optimizer='adam',\n",
        "                metrics=['accuracy'])"
      ],
      "metadata": {
        "id": "HFDcBjlDKbRS"
      },
      "execution_count": 16,
      "outputs": []
    },
    {
      "cell_type": "code",
      "source": [
        "bi_lstm_model.summary()"
      ],
      "metadata": {
        "colab": {
          "base_uri": "https://localhost:8080/"
        },
        "id": "F--qZ4l4KbOs",
        "outputId": "953c92bd-f0b1-4ad0-f9b9-bc46ded63091"
      },
      "execution_count": 17,
      "outputs": [
        {
          "output_type": "stream",
          "name": "stdout",
          "text": [
            "Model: \"LSTM\"\n",
            "_________________________________________________________________\n",
            " Layer (type)                Output Shape              Param #   \n",
            "=================================================================\n",
            " embedding_3 (Embedding)     (None, 400, 32)           160000    \n",
            "                                                                 \n",
            " bidirectional (Bidirection  (None, 256)               164864    \n",
            " al)                                                             \n",
            "                                                                 \n",
            " dense_3 (Dense)             (None, 1)                 257       \n",
            "                                                                 \n",
            "=================================================================\n",
            "Total params: 325121 (1.24 MB)\n",
            "Trainable params: 325121 (1.24 MB)\n",
            "Non-trainable params: 0 (0.00 Byte)\n",
            "_________________________________________________________________\n"
          ]
        }
      ]
    },
    {
      "cell_type": "code",
      "source": [
        "hist_bi_lstm = bi_lstm_model.fit(X_train_, y_train_,\n",
        "              batch_size=64,\n",
        "              epochs=5,\n",
        "              validation_data=(X_val, y_val),\n",
        "              verbose=1)"
      ],
      "metadata": {
        "colab": {
          "base_uri": "https://localhost:8080/"
        },
        "id": "y-eOQe11KbMQ",
        "outputId": "2cd1a73c-bff7-4084-ad41-598ea3a0b5bc"
      },
      "execution_count": 18,
      "outputs": [
        {
          "output_type": "stream",
          "name": "stdout",
          "text": [
            "Epoch 1/5\n",
            "390/390 [==============================] - 374s 952ms/step - loss: nan - accuracy: 0.5036 - val_loss: nan - val_accuracy: 0.6094\n",
            "Epoch 2/5\n",
            "390/390 [==============================] - 371s 951ms/step - loss: nan - accuracy: 0.4997 - val_loss: nan - val_accuracy: 0.6094\n",
            "Epoch 3/5\n",
            "390/390 [==============================] - 370s 948ms/step - loss: nan - accuracy: 0.4997 - val_loss: nan - val_accuracy: 0.6094\n",
            "Epoch 4/5\n",
            "390/390 [==============================] - 369s 947ms/step - loss: nan - accuracy: 0.4997 - val_loss: nan - val_accuracy: 0.6094\n",
            "Epoch 5/5\n",
            "390/390 [==============================] - 367s 941ms/step - loss: nan - accuracy: 0.4997 - val_loss: nan - val_accuracy: 0.6094\n"
          ]
        }
      ]
    },
    {
      "cell_type": "code",
      "source": [
        "bi_lstm_model.evaluate(X_test, y_test, verbose=False)"
      ],
      "metadata": {
        "colab": {
          "base_uri": "https://localhost:8080/"
        },
        "id": "vJJIddafKxua",
        "outputId": "e04c1ed0-b9f3-4a60-de78-0b79279ab590"
      },
      "execution_count": 19,
      "outputs": [
        {
          "output_type": "execute_result",
          "data": {
            "text/plain": [
              "[nan, 0.5]"
            ]
          },
          "metadata": {},
          "execution_count": 19
        }
      ]
    },
    {
      "cell_type": "code",
      "source": [],
      "metadata": {
        "id": "A0De6XiBKzhQ"
      },
      "execution_count": null,
      "outputs": []
    }
  ]
}