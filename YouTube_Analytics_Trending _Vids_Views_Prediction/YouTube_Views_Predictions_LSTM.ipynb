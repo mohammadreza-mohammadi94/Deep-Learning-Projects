{
  "nbformat": 4,
  "nbformat_minor": 0,
  "metadata": {
    "colab": {
      "provenance": [],
      "authorship_tag": "ABX9TyOXzFKaifNmEVsN34s+c9jl",
      "include_colab_link": true
    },
    "kernelspec": {
      "name": "python3",
      "display_name": "Python 3"
    },
    "language_info": {
      "name": "python"
    }
  },
  "cells": [
    {
      "cell_type": "markdown",
      "metadata": {
        "id": "view-in-github",
        "colab_type": "text"
      },
      "source": [
        "<a href=\"https://colab.research.google.com/github/mohammadreza-mohammadi94/Deep-Learning-Projects/blob/main/YouTube_Analytics_Treding%20_Vids_Views_Prediction/YouTube_Views_Predictions_LSTM.ipynb\" target=\"_parent\"><img src=\"https://colab.research.google.com/assets/colab-badge.svg\" alt=\"Open In Colab\"/></a>"
      ]
    },
    {
      "cell_type": "markdown",
      "source": [
        "# Setup Enviorment"
      ],
      "metadata": {
        "id": "udkswrJo6uCF"
      }
    },
    {
      "cell_type": "markdown",
      "source": [
        "*Download Dataset From Kaggle*"
      ],
      "metadata": {
        "id": "Qz9ges-76wP2"
      }
    },
    {
      "cell_type": "code",
      "execution_count": 1,
      "metadata": {
        "colab": {
          "base_uri": "https://localhost:8080/"
        },
        "id": "XaHMlxl86tDU",
        "outputId": "33467086-361a-468a-85bc-db0750846255"
      },
      "outputs": [
        {
          "output_type": "stream",
          "name": "stdout",
          "text": [
            "Downloading from https://www.kaggle.com/api/v1/datasets/download/datasnaek/youtube?dataset_version_number=24...\n"
          ]
        },
        {
          "output_type": "stream",
          "name": "stderr",
          "text": [
            "100%|██████████| 55.9M/55.9M [00:00<00:00, 180MB/s]"
          ]
        },
        {
          "output_type": "stream",
          "name": "stdout",
          "text": [
            "Extracting files...\n"
          ]
        },
        {
          "output_type": "stream",
          "name": "stderr",
          "text": [
            "\n"
          ]
        },
        {
          "output_type": "stream",
          "name": "stdout",
          "text": [
            "Path to dataset files: /root/.cache/kagglehub/datasets/datasnaek/youtube/versions/24\n"
          ]
        }
      ],
      "source": [
        "import kagglehub\n",
        "\n",
        "# Download latest version\n",
        "path = kagglehub.dataset_download(\"datasnaek/youtube\")\n",
        "print(\"Path to dataset files:\", path)"
      ]
    },
    {
      "cell_type": "markdown",
      "source": [
        "*Import Libraries*"
      ],
      "metadata": {
        "id": "9sErlZ3Z67X4"
      }
    },
    {
      "cell_type": "code",
      "source": [
        "import pandas as pd\n",
        "import numpy as np\n",
        "import seaborn as sns\n",
        "import matplotlib.pyplot as plt\n",
        "\n",
        "from tensorflow.keras.models import Sequential\n",
        "from tensorflow.keras.layers import LSTM, Embedding, Dense, Dropout\n",
        "from tensorflow.keras.preprocessing.text import Tokenizer\n",
        "from tensorflow.keras.preprocessing.sequence import pad_sequences\n",
        "from tensorflow.keras.callbacks import EarlyStopping\n",
        "\n",
        "from sklearn.model_selection import train_test_split\n",
        "from sklearn.preprocessing import MinMaxScaler"
      ],
      "metadata": {
        "id": "04YhOmzP6yQv"
      },
      "execution_count": 82,
      "outputs": []
    },
    {
      "cell_type": "markdown",
      "source": [
        "*Setup Enviroment*"
      ],
      "metadata": {
        "id": "uKeVMHsT7EJh"
      }
    },
    {
      "cell_type": "code",
      "source": [
        "# Setup warnings\n",
        "import warnings\n",
        "warnings.filterwarnings('ignore')\n",
        "\n",
        "# Setup logging\n",
        "import logging\n",
        "logging.basicConfig(\n",
        "    format='%(asctime)s %(levelname)-8s %(message)s',\n",
        "    level=logging.INFO,\n",
        "    handlers=[\n",
        "        logging.FileHandler(\"app_log.log\"),\n",
        "        logging.StreamHandler()\n",
        "    ]\n",
        ")\n",
        "logger = logging.getLogger(__name__)"
      ],
      "metadata": {
        "id": "E5qH3IVL7GD7"
      },
      "execution_count": 4,
      "outputs": []
    },
    {
      "cell_type": "code",
      "source": [],
      "metadata": {
        "id": "i7mYyyUk7ahs"
      },
      "execution_count": null,
      "outputs": []
    },
    {
      "cell_type": "markdown",
      "source": [
        "*Load Dataset*"
      ],
      "metadata": {
        "id": "gHV-IswJ7fgv"
      }
    },
    {
      "cell_type": "code",
      "source": [
        "# Define PATH\n",
        "DATA = \"/root/.cache/kagglehub/datasets/datasnaek/youtube/versions/24/USvideos.csv\"\n",
        "\n",
        "# Load dataset\n",
        "df = pd.read_csv(\n",
        "    DATA,\n",
        "    on_bad_lines='skip',  # 'skip' to silently drop bad lines\n",
        "    quoting=1,\n",
        "    encoding='utf-8'\n",
        ")\n",
        "\n",
        "df.head() # Check first rows"
      ],
      "metadata": {
        "colab": {
          "base_uri": "https://localhost:8080/",
          "height": 452
        },
        "id": "UrDeqVSL7gk-",
        "outputId": "0a0272b8-fd14-4094-b02f-84b422095437"
      },
      "execution_count": 12,
      "outputs": [
        {
          "output_type": "execute_result",
          "data": {
            "text/plain": [
              "      video_id                                              title  \\\n",
              "0  XpVt6Z1Gjjo  1 YEAR OF VLOGGING -- HOW LOGAN PAUL CHANGED Y...   \n",
              "1  K4wEI5zhHB0            iPhone X — Introducing iPhone X — Apple   \n",
              "2  cLdxuaxaQwc                                        My Response   \n",
              "3  WYYvHb03Eog                          Apple iPhone X first look   \n",
              "4  sjlHnJvXdQs                                  iPhone X (parody)   \n",
              "\n",
              "      channel_title  category_id  \\\n",
              "0  Logan Paul Vlogs           24   \n",
              "1             Apple           28   \n",
              "2         PewDiePie           22   \n",
              "3         The Verge           28   \n",
              "4        jacksfilms           23   \n",
              "\n",
              "                                                tags    views   likes  \\\n",
              "0  logan paul vlog|logan paul|logan|paul|olympics...  4394029  320053   \n",
              "1  Apple|iPhone 10|iPhone Ten|iPhone|Portrait Lig...  7860119  185853   \n",
              "2                                             [none]  5845909  576597   \n",
              "3  apple iphone x hands on|Apple iPhone X|iPhone ...  2642103   24975   \n",
              "4  jacksfilms|parody|parodies|iphone|iphone x|iph...  1168130   96666   \n",
              "\n",
              "   dislikes  comment_total                                  thumbnail_link  \\\n",
              "0      5931          46245  https://i.ytimg.com/vi/XpVt6Z1Gjjo/default.jpg   \n",
              "1     26679              0  https://i.ytimg.com/vi/K4wEI5zhHB0/default.jpg   \n",
              "2     39774         170708  https://i.ytimg.com/vi/cLdxuaxaQwc/default.jpg   \n",
              "3      4542          12829  https://i.ytimg.com/vi/WYYvHb03Eog/default.jpg   \n",
              "4       568           6666  https://i.ytimg.com/vi/sjlHnJvXdQs/default.jpg   \n",
              "\n",
              "    date  \n",
              "0  13.09  \n",
              "1  13.09  \n",
              "2  13.09  \n",
              "3  13.09  \n",
              "4  13.09  "
            ],
            "text/html": [
              "\n",
              "  <div id=\"df-e546fded-326f-42e1-ad54-dfb3e5acb0ff\" class=\"colab-df-container\">\n",
              "    <div>\n",
              "<style scoped>\n",
              "    .dataframe tbody tr th:only-of-type {\n",
              "        vertical-align: middle;\n",
              "    }\n",
              "\n",
              "    .dataframe tbody tr th {\n",
              "        vertical-align: top;\n",
              "    }\n",
              "\n",
              "    .dataframe thead th {\n",
              "        text-align: right;\n",
              "    }\n",
              "</style>\n",
              "<table border=\"1\" class=\"dataframe\">\n",
              "  <thead>\n",
              "    <tr style=\"text-align: right;\">\n",
              "      <th></th>\n",
              "      <th>video_id</th>\n",
              "      <th>title</th>\n",
              "      <th>channel_title</th>\n",
              "      <th>category_id</th>\n",
              "      <th>tags</th>\n",
              "      <th>views</th>\n",
              "      <th>likes</th>\n",
              "      <th>dislikes</th>\n",
              "      <th>comment_total</th>\n",
              "      <th>thumbnail_link</th>\n",
              "      <th>date</th>\n",
              "    </tr>\n",
              "  </thead>\n",
              "  <tbody>\n",
              "    <tr>\n",
              "      <th>0</th>\n",
              "      <td>XpVt6Z1Gjjo</td>\n",
              "      <td>1 YEAR OF VLOGGING -- HOW LOGAN PAUL CHANGED Y...</td>\n",
              "      <td>Logan Paul Vlogs</td>\n",
              "      <td>24</td>\n",
              "      <td>logan paul vlog|logan paul|logan|paul|olympics...</td>\n",
              "      <td>4394029</td>\n",
              "      <td>320053</td>\n",
              "      <td>5931</td>\n",
              "      <td>46245</td>\n",
              "      <td>https://i.ytimg.com/vi/XpVt6Z1Gjjo/default.jpg</td>\n",
              "      <td>13.09</td>\n",
              "    </tr>\n",
              "    <tr>\n",
              "      <th>1</th>\n",
              "      <td>K4wEI5zhHB0</td>\n",
              "      <td>iPhone X — Introducing iPhone X — Apple</td>\n",
              "      <td>Apple</td>\n",
              "      <td>28</td>\n",
              "      <td>Apple|iPhone 10|iPhone Ten|iPhone|Portrait Lig...</td>\n",
              "      <td>7860119</td>\n",
              "      <td>185853</td>\n",
              "      <td>26679</td>\n",
              "      <td>0</td>\n",
              "      <td>https://i.ytimg.com/vi/K4wEI5zhHB0/default.jpg</td>\n",
              "      <td>13.09</td>\n",
              "    </tr>\n",
              "    <tr>\n",
              "      <th>2</th>\n",
              "      <td>cLdxuaxaQwc</td>\n",
              "      <td>My Response</td>\n",
              "      <td>PewDiePie</td>\n",
              "      <td>22</td>\n",
              "      <td>[none]</td>\n",
              "      <td>5845909</td>\n",
              "      <td>576597</td>\n",
              "      <td>39774</td>\n",
              "      <td>170708</td>\n",
              "      <td>https://i.ytimg.com/vi/cLdxuaxaQwc/default.jpg</td>\n",
              "      <td>13.09</td>\n",
              "    </tr>\n",
              "    <tr>\n",
              "      <th>3</th>\n",
              "      <td>WYYvHb03Eog</td>\n",
              "      <td>Apple iPhone X first look</td>\n",
              "      <td>The Verge</td>\n",
              "      <td>28</td>\n",
              "      <td>apple iphone x hands on|Apple iPhone X|iPhone ...</td>\n",
              "      <td>2642103</td>\n",
              "      <td>24975</td>\n",
              "      <td>4542</td>\n",
              "      <td>12829</td>\n",
              "      <td>https://i.ytimg.com/vi/WYYvHb03Eog/default.jpg</td>\n",
              "      <td>13.09</td>\n",
              "    </tr>\n",
              "    <tr>\n",
              "      <th>4</th>\n",
              "      <td>sjlHnJvXdQs</td>\n",
              "      <td>iPhone X (parody)</td>\n",
              "      <td>jacksfilms</td>\n",
              "      <td>23</td>\n",
              "      <td>jacksfilms|parody|parodies|iphone|iphone x|iph...</td>\n",
              "      <td>1168130</td>\n",
              "      <td>96666</td>\n",
              "      <td>568</td>\n",
              "      <td>6666</td>\n",
              "      <td>https://i.ytimg.com/vi/sjlHnJvXdQs/default.jpg</td>\n",
              "      <td>13.09</td>\n",
              "    </tr>\n",
              "  </tbody>\n",
              "</table>\n",
              "</div>\n",
              "    <div class=\"colab-df-buttons\">\n",
              "\n",
              "  <div class=\"colab-df-container\">\n",
              "    <button class=\"colab-df-convert\" onclick=\"convertToInteractive('df-e546fded-326f-42e1-ad54-dfb3e5acb0ff')\"\n",
              "            title=\"Convert this dataframe to an interactive table.\"\n",
              "            style=\"display:none;\">\n",
              "\n",
              "  <svg xmlns=\"http://www.w3.org/2000/svg\" height=\"24px\" viewBox=\"0 -960 960 960\">\n",
              "    <path d=\"M120-120v-720h720v720H120Zm60-500h600v-160H180v160Zm220 220h160v-160H400v160Zm0 220h160v-160H400v160ZM180-400h160v-160H180v160Zm440 0h160v-160H620v160ZM180-180h160v-160H180v160Zm440 0h160v-160H620v160Z\"/>\n",
              "  </svg>\n",
              "    </button>\n",
              "\n",
              "  <style>\n",
              "    .colab-df-container {\n",
              "      display:flex;\n",
              "      gap: 12px;\n",
              "    }\n",
              "\n",
              "    .colab-df-convert {\n",
              "      background-color: #E8F0FE;\n",
              "      border: none;\n",
              "      border-radius: 50%;\n",
              "      cursor: pointer;\n",
              "      display: none;\n",
              "      fill: #1967D2;\n",
              "      height: 32px;\n",
              "      padding: 0 0 0 0;\n",
              "      width: 32px;\n",
              "    }\n",
              "\n",
              "    .colab-df-convert:hover {\n",
              "      background-color: #E2EBFA;\n",
              "      box-shadow: 0px 1px 2px rgba(60, 64, 67, 0.3), 0px 1px 3px 1px rgba(60, 64, 67, 0.15);\n",
              "      fill: #174EA6;\n",
              "    }\n",
              "\n",
              "    .colab-df-buttons div {\n",
              "      margin-bottom: 4px;\n",
              "    }\n",
              "\n",
              "    [theme=dark] .colab-df-convert {\n",
              "      background-color: #3B4455;\n",
              "      fill: #D2E3FC;\n",
              "    }\n",
              "\n",
              "    [theme=dark] .colab-df-convert:hover {\n",
              "      background-color: #434B5C;\n",
              "      box-shadow: 0px 1px 3px 1px rgba(0, 0, 0, 0.15);\n",
              "      filter: drop-shadow(0px 1px 2px rgba(0, 0, 0, 0.3));\n",
              "      fill: #FFFFFF;\n",
              "    }\n",
              "  </style>\n",
              "\n",
              "    <script>\n",
              "      const buttonEl =\n",
              "        document.querySelector('#df-e546fded-326f-42e1-ad54-dfb3e5acb0ff button.colab-df-convert');\n",
              "      buttonEl.style.display =\n",
              "        google.colab.kernel.accessAllowed ? 'block' : 'none';\n",
              "\n",
              "      async function convertToInteractive(key) {\n",
              "        const element = document.querySelector('#df-e546fded-326f-42e1-ad54-dfb3e5acb0ff');\n",
              "        const dataTable =\n",
              "          await google.colab.kernel.invokeFunction('convertToInteractive',\n",
              "                                                    [key], {});\n",
              "        if (!dataTable) return;\n",
              "\n",
              "        const docLinkHtml = 'Like what you see? Visit the ' +\n",
              "          '<a target=\"_blank\" href=https://colab.research.google.com/notebooks/data_table.ipynb>data table notebook</a>'\n",
              "          + ' to learn more about interactive tables.';\n",
              "        element.innerHTML = '';\n",
              "        dataTable['output_type'] = 'display_data';\n",
              "        await google.colab.output.renderOutput(dataTable, element);\n",
              "        const docLink = document.createElement('div');\n",
              "        docLink.innerHTML = docLinkHtml;\n",
              "        element.appendChild(docLink);\n",
              "      }\n",
              "    </script>\n",
              "  </div>\n",
              "\n",
              "\n",
              "    <div id=\"df-f180c4be-e503-4c11-ae92-2437c736da99\">\n",
              "      <button class=\"colab-df-quickchart\" onclick=\"quickchart('df-f180c4be-e503-4c11-ae92-2437c736da99')\"\n",
              "                title=\"Suggest charts\"\n",
              "                style=\"display:none;\">\n",
              "\n",
              "<svg xmlns=\"http://www.w3.org/2000/svg\" height=\"24px\"viewBox=\"0 0 24 24\"\n",
              "     width=\"24px\">\n",
              "    <g>\n",
              "        <path d=\"M19 3H5c-1.1 0-2 .9-2 2v14c0 1.1.9 2 2 2h14c1.1 0 2-.9 2-2V5c0-1.1-.9-2-2-2zM9 17H7v-7h2v7zm4 0h-2V7h2v10zm4 0h-2v-4h2v4z\"/>\n",
              "    </g>\n",
              "</svg>\n",
              "      </button>\n",
              "\n",
              "<style>\n",
              "  .colab-df-quickchart {\n",
              "      --bg-color: #E8F0FE;\n",
              "      --fill-color: #1967D2;\n",
              "      --hover-bg-color: #E2EBFA;\n",
              "      --hover-fill-color: #174EA6;\n",
              "      --disabled-fill-color: #AAA;\n",
              "      --disabled-bg-color: #DDD;\n",
              "  }\n",
              "\n",
              "  [theme=dark] .colab-df-quickchart {\n",
              "      --bg-color: #3B4455;\n",
              "      --fill-color: #D2E3FC;\n",
              "      --hover-bg-color: #434B5C;\n",
              "      --hover-fill-color: #FFFFFF;\n",
              "      --disabled-bg-color: #3B4455;\n",
              "      --disabled-fill-color: #666;\n",
              "  }\n",
              "\n",
              "  .colab-df-quickchart {\n",
              "    background-color: var(--bg-color);\n",
              "    border: none;\n",
              "    border-radius: 50%;\n",
              "    cursor: pointer;\n",
              "    display: none;\n",
              "    fill: var(--fill-color);\n",
              "    height: 32px;\n",
              "    padding: 0;\n",
              "    width: 32px;\n",
              "  }\n",
              "\n",
              "  .colab-df-quickchart:hover {\n",
              "    background-color: var(--hover-bg-color);\n",
              "    box-shadow: 0 1px 2px rgba(60, 64, 67, 0.3), 0 1px 3px 1px rgba(60, 64, 67, 0.15);\n",
              "    fill: var(--button-hover-fill-color);\n",
              "  }\n",
              "\n",
              "  .colab-df-quickchart-complete:disabled,\n",
              "  .colab-df-quickchart-complete:disabled:hover {\n",
              "    background-color: var(--disabled-bg-color);\n",
              "    fill: var(--disabled-fill-color);\n",
              "    box-shadow: none;\n",
              "  }\n",
              "\n",
              "  .colab-df-spinner {\n",
              "    border: 2px solid var(--fill-color);\n",
              "    border-color: transparent;\n",
              "    border-bottom-color: var(--fill-color);\n",
              "    animation:\n",
              "      spin 1s steps(1) infinite;\n",
              "  }\n",
              "\n",
              "  @keyframes spin {\n",
              "    0% {\n",
              "      border-color: transparent;\n",
              "      border-bottom-color: var(--fill-color);\n",
              "      border-left-color: var(--fill-color);\n",
              "    }\n",
              "    20% {\n",
              "      border-color: transparent;\n",
              "      border-left-color: var(--fill-color);\n",
              "      border-top-color: var(--fill-color);\n",
              "    }\n",
              "    30% {\n",
              "      border-color: transparent;\n",
              "      border-left-color: var(--fill-color);\n",
              "      border-top-color: var(--fill-color);\n",
              "      border-right-color: var(--fill-color);\n",
              "    }\n",
              "    40% {\n",
              "      border-color: transparent;\n",
              "      border-right-color: var(--fill-color);\n",
              "      border-top-color: var(--fill-color);\n",
              "    }\n",
              "    60% {\n",
              "      border-color: transparent;\n",
              "      border-right-color: var(--fill-color);\n",
              "    }\n",
              "    80% {\n",
              "      border-color: transparent;\n",
              "      border-right-color: var(--fill-color);\n",
              "      border-bottom-color: var(--fill-color);\n",
              "    }\n",
              "    90% {\n",
              "      border-color: transparent;\n",
              "      border-bottom-color: var(--fill-color);\n",
              "    }\n",
              "  }\n",
              "</style>\n",
              "\n",
              "      <script>\n",
              "        async function quickchart(key) {\n",
              "          const quickchartButtonEl =\n",
              "            document.querySelector('#' + key + ' button');\n",
              "          quickchartButtonEl.disabled = true;  // To prevent multiple clicks.\n",
              "          quickchartButtonEl.classList.add('colab-df-spinner');\n",
              "          try {\n",
              "            const charts = await google.colab.kernel.invokeFunction(\n",
              "                'suggestCharts', [key], {});\n",
              "          } catch (error) {\n",
              "            console.error('Error during call to suggestCharts:', error);\n",
              "          }\n",
              "          quickchartButtonEl.classList.remove('colab-df-spinner');\n",
              "          quickchartButtonEl.classList.add('colab-df-quickchart-complete');\n",
              "        }\n",
              "        (() => {\n",
              "          let quickchartButtonEl =\n",
              "            document.querySelector('#df-f180c4be-e503-4c11-ae92-2437c736da99 button');\n",
              "          quickchartButtonEl.style.display =\n",
              "            google.colab.kernel.accessAllowed ? 'block' : 'none';\n",
              "        })();\n",
              "      </script>\n",
              "    </div>\n",
              "\n",
              "    </div>\n",
              "  </div>\n"
            ],
            "application/vnd.google.colaboratory.intrinsic+json": {
              "type": "dataframe",
              "variable_name": "df",
              "summary": "{\n  \"name\": \"df\",\n  \"rows\": 7992,\n  \"fields\": [\n    {\n      \"column\": \"video_id\",\n      \"properties\": {\n        \"dtype\": \"category\",\n        \"num_unique_values\": 2364,\n        \"samples\": [\n          \"B9SptdjpJBQ\",\n          \"RE-far-FvRs\",\n          \"HjfN2Phsfng\"\n        ],\n        \"semantic_type\": \"\",\n        \"description\": \"\"\n      }\n    },\n    {\n      \"column\": \"title\",\n      \"properties\": {\n        \"dtype\": \"category\",\n        \"num_unique_values\": 2398,\n        \"samples\": [\n          \"TV Doctors of America | Even More Drama\",\n          \"R3HAB & Quintino  - I Just Can't (Official Video)\",\n          \"I'm a Psychopath | Hannah Stocking\"\n        ],\n        \"semantic_type\": \"\",\n        \"description\": \"\"\n      }\n    },\n    {\n      \"column\": \"channel_title\",\n      \"properties\": {\n        \"dtype\": \"category\",\n        \"num_unique_values\": 1230,\n        \"samples\": [\n          \"100isNow\",\n          \"Beats 1 Radio\",\n          \"Full Frontal with Samantha Bee\"\n        ],\n        \"semantic_type\": \"\",\n        \"description\": \"\"\n      }\n    },\n    {\n      \"column\": \"category_id\",\n      \"properties\": {\n        \"dtype\": \"number\",\n        \"std\": 7,\n        \"min\": 1,\n        \"max\": 43,\n        \"num_unique_values\": 16,\n        \"samples\": [\n          24,\n          28,\n          26\n        ],\n        \"semantic_type\": \"\",\n        \"description\": \"\"\n      }\n    },\n    {\n      \"column\": \"tags\",\n      \"properties\": {\n        \"dtype\": \"category\",\n        \"num_unique_values\": 2204,\n        \"samples\": [\n          \"pregnant|lookbook|kylie jenner|amber scholl|outfit ideas|fall|pregnancy|baby|cheap|try on|haul|mom|teen mom|PARENTS|instagram\",\n          \"call of duty|cod|activision|campaign|sledgehammer games\",\n          \"dxomark|dxo|dxo scores|DxOMark|smartphone cameras|best smartphone cameras|best camera|best cameras|phone cameras|iphone 8|iphone x|note 8|galaxy note 8|iphone 8 camera|iPhone camera|dxomark camera|best dxomark|highest dxomark|dxo scale|MKBHD\"\n        ],\n        \"semantic_type\": \"\",\n        \"description\": \"\"\n      }\n    },\n    {\n      \"column\": \"views\",\n      \"properties\": {\n        \"dtype\": \"number\",\n        \"std\": 2148263,\n        \"min\": 0,\n        \"max\": 41500672,\n        \"num_unique_values\": 7939,\n        \"samples\": [\n          132625,\n          126700,\n          2785001\n        ],\n        \"semantic_type\": \"\",\n        \"description\": \"\"\n      }\n    },\n    {\n      \"column\": \"likes\",\n      \"properties\": {\n        \"dtype\": \"number\",\n        \"std\": 91361,\n        \"min\": 0,\n        \"max\": 2010366,\n        \"num_unique_values\": 6624,\n        \"samples\": [\n          8516,\n          51617,\n          4224\n        ],\n        \"semantic_type\": \"\",\n        \"description\": \"\"\n      }\n    },\n    {\n      \"column\": \"dislikes\",\n      \"properties\": {\n        \"dtype\": \"number\",\n        \"std\": 10822,\n        \"min\": 0,\n        \"max\": 318404,\n        \"num_unique_values\": 2531,\n        \"samples\": [\n          848,\n          2811,\n          596\n        ],\n        \"semantic_type\": \"\",\n        \"description\": \"\"\n      }\n    },\n    {\n      \"column\": \"comment_total\",\n      \"properties\": {\n        \"dtype\": \"number\",\n        \"std\": 20252,\n        \"min\": 0,\n        \"max\": 736179,\n        \"num_unique_values\": 4152,\n        \"samples\": [\n          5017,\n          1521,\n          5038\n        ],\n        \"semantic_type\": \"\",\n        \"description\": \"\"\n      }\n    },\n    {\n      \"column\": \"thumbnail_link\",\n      \"properties\": {\n        \"dtype\": \"category\",\n        \"num_unique_values\": 2364,\n        \"samples\": [\n          \"https://i.ytimg.com/vi/B9SptdjpJBQ/default.jpg\",\n          \"https://i.ytimg.com/vi/RE-far-FvRs/default.jpg\",\n          \"https://i.ytimg.com/vi/HjfN2Phsfng/default.jpg\"\n        ],\n        \"semantic_type\": \"\",\n        \"description\": \"\"\n      }\n    },\n    {\n      \"column\": \"date\",\n      \"properties\": {\n        \"dtype\": \"number\",\n        \"std\": 7.677673600632111,\n        \"min\": 1.1,\n        \"max\": 30.09,\n        \"num_unique_values\": 40,\n        \"samples\": [\n          2.1,\n          29.09,\n          28.09\n        ],\n        \"semantic_type\": \"\",\n        \"description\": \"\"\n      }\n    }\n  ]\n}"
            }
          },
          "metadata": {},
          "execution_count": 12
        }
      ]
    },
    {
      "cell_type": "code",
      "source": [],
      "metadata": {
        "id": "M3QwZP8lBR2C"
      },
      "execution_count": null,
      "outputs": []
    },
    {
      "cell_type": "markdown",
      "source": [
        "# Define Required Functions"
      ],
      "metadata": {
        "id": "MEgvoVxP9igQ"
      }
    },
    {
      "cell_type": "markdown",
      "source": [
        "*Load & Prepare Dataset*"
      ],
      "metadata": {
        "id": "ro4kEVboA-VJ"
      }
    },
    {
      "cell_type": "code",
      "source": [
        "def load_and_prepare_data(file_path):\n",
        "    logger.info(\"Loading and preparing dataset...\")\n",
        "    try:\n",
        "        df = pd.read_csv(\n",
        "            DATA,\n",
        "            on_bad_lines='skip',\n",
        "            quoting=1,\n",
        "            encoding='utf-8')\n",
        "        # Select features\n",
        "        df = df[['title', 'tags', 'category_id', 'likes', 'dislikes', 'comment_total', 'views']]\n",
        "        # Drop dupe and nans\n",
        "        df = df.dropna().drop_duplicates()\n",
        "\n",
        "        logger.info(f\"Dataset loaded and cleaned. Shape: {df.shape}\")\n",
        "        return df\n",
        "    except Exception as e:\n",
        "        logger.error(f\"Error loading and preparing dataset: {e}\")\n",
        "        raise"
      ],
      "metadata": {
        "id": "QMBVJiqZ8VGx"
      },
      "execution_count": 83,
      "outputs": []
    },
    {
      "cell_type": "code",
      "source": [],
      "metadata": {
        "id": "QMs35zeHBAq1"
      },
      "execution_count": 83,
      "outputs": []
    },
    {
      "cell_type": "markdown",
      "source": [
        "*Preprocessing Data*"
      ],
      "metadata": {
        "id": "NV1KioJbCjRI"
      }
    },
    {
      "cell_type": "code",
      "source": [
        "def preprocess_data(df, max_length=50, max_words=5000):\n",
        "    logger.info(\"Preprocessing data...\")\n",
        "    try:\n",
        "        # merge title and tags\n",
        "        texts = df['title'].fillna(\"\") + \" \" + df['tags'].fillna(\"\")\n",
        "\n",
        "        # Text tokenization\n",
        "        tokenizer = Tokenizer(num_words = max_words, oov_token=\"<OOV>\")\n",
        "        tokenizer.fit_on_texts(texts)\n",
        "        sequences = tokenizer.texts_to_sequences(texts)\n",
        "        padded_sequences = pad_sequences(sequences, maxlen=max_length, padding='post')\n",
        "\n",
        "        # Normalizing numeric values\n",
        "        scaler = MinMaxScaler()\n",
        "        views = scaler.fit_transform(df['views'].values.reshape(-1, 1))\n",
        "        likes = scaler.fit_transform(df['likes'].values.reshape(-1, 1))\n",
        "        dislikes = scaler.fit_transform(df['dislikes'].values.reshape(-1, 1))\n",
        "        comment_total = scaler.fit_transform(df['comment_total'].values.reshape(-1, 1))\n",
        "        category_id = scaler.fit_transform(df['category_id'].values.reshape(-1, 1))\n",
        "\n",
        "        # Combine features\n",
        "        X = np.concatenate([padded_sequences, category_id, likes,\n",
        "                            dislikes, comment_total], axis=1)\n",
        "        y = views\n",
        "\n",
        "        # Spliting to X, y\n",
        "        X_train, X_test, y_train, y_test = train_test_split(X, y, test_size=0.2,\n",
        "                                                            random_state=42)\n",
        "        logger.info(f\"Preprocessed data. X_train shape: {X_train.shape}, y_train shape: {y_train.shape}\")\n",
        "        return X_train, X_test, y_train, y_test, tokenizer, scaler, max_length\n",
        "    except Exception as e:\n",
        "        logger.error(f\"Error in preprocessing: {e}\")\n",
        "        raise"
      ],
      "metadata": {
        "id": "IZhBQ4nQCk7f"
      },
      "execution_count": 84,
      "outputs": []
    },
    {
      "cell_type": "code",
      "source": [],
      "metadata": {
        "id": "rrs5SwWRFhG2"
      },
      "execution_count": 84,
      "outputs": []
    },
    {
      "cell_type": "markdown",
      "source": [
        "*Build Model*"
      ],
      "metadata": {
        "id": "U0LQkeXgFhr3"
      }
    },
    {
      "cell_type": "code",
      "source": [
        "def build_lstm_model(vocab_size, sequence_length):\n",
        "    logger.info(\"Building LSTM model...\")\n",
        "    try:\n",
        "        model = Sequential([\n",
        "            Embedding(vocab_size, 64, input_length=sequence_length + 4),\n",
        "            LSTM(128, return_sequences=False),\n",
        "            Dropout(0.3),\n",
        "            Dense(64, activation='relu'),\n",
        "            Dropout(0.3),\n",
        "            Dense(1, activation='sigmoid')\n",
        "        ])\n",
        "        model.compile(loss='mse',\n",
        "                      optimizer='adam',\n",
        "                      metrics=['mae'])\n",
        "        logger.info(\"LSTM model built successfully.\")\n",
        "        return model\n",
        "    except Exception as e:\n",
        "        logger.error(f\"Error in building LSTM model: {e}\")\n",
        "        raise"
      ],
      "metadata": {
        "id": "v5t0SmLLFjPI"
      },
      "execution_count": 85,
      "outputs": []
    },
    {
      "cell_type": "code",
      "source": [],
      "metadata": {
        "id": "PEHK-4YzGLwt"
      },
      "execution_count": 85,
      "outputs": []
    },
    {
      "cell_type": "markdown",
      "source": [
        "*Train Model*"
      ],
      "metadata": {
        "id": "SE6sFnQxGSE3"
      }
    },
    {
      "cell_type": "code",
      "source": [
        "def train_model(model, X_train, y_train, X_test, y_test, epochs=20):\n",
        "    logger.info(\"Training model....\")\n",
        "    try:\n",
        "        # Defin early_stopping\n",
        "        early_stopping = EarlyStopping(\n",
        "            monitor='val_loss',\n",
        "            patience=3,\n",
        "            restore_best_weights=True\n",
        "        )\n",
        "\n",
        "        # Trian\n",
        "        history = model.fit(X_train, y_train,\n",
        "                            batch_size=32,\n",
        "                            validation_split=0.2,\n",
        "                            epochs=epochs)\n",
        "        loss, mae = model.evaluate(X_test, y_test, verbose=0)\n",
        "        logger.info(f\"Test loss: {loss}, Test MAE: {mae}\")\n",
        "        logger.info(\"Model trained successfully.\")\n",
        "        return history\n",
        "    except Exception as e:\n",
        "        logger.error(f\"Error training model: {e}\")\n",
        "        raise"
      ],
      "metadata": {
        "id": "2eNV9_9WGS15"
      },
      "execution_count": 86,
      "outputs": []
    },
    {
      "cell_type": "code",
      "source": [],
      "metadata": {
        "id": "w3xNNawJG3Aq"
      },
      "execution_count": 86,
      "outputs": []
    },
    {
      "cell_type": "markdown",
      "source": [
        "*Predict Views*"
      ],
      "metadata": {
        "id": "F-iQvYQTHMoo"
      }
    },
    {
      "cell_type": "code",
      "source": [
        "def predict_views(model, tokenizer, scaler, text, category_id,\n",
        "                  likes, dislikes, comment_total, max_length):\n",
        "    logger.info(\"Predicting views...\")\n",
        "    try:\n",
        "        # Input preprocessing\n",
        "        text_seq = tokenizer.texts_to_sequences([text])\n",
        "        padded_seq = pad_sequences(text_seq, maxlen=max_length, padding='post')\n",
        "        category_id_scaled = scaler.fit_transform(np.array([[category_id]]))\n",
        "        likes_scaled = scaler.fit_transform(np.array([[likes]]))\n",
        "        dislikes_scaled = scaler.fit_transform(np.array([[dislikes]]))\n",
        "        comment_total_scaled = scaler.fit_transform(np.array([[comment_total]]))\n",
        "        input_data = np.concatenate([padded_seq, category_id_scaled, likes_scaled, dislikes_scaled, comment_total_scaled], axis=1)\n",
        "\n",
        "        # Prediction\n",
        "        prediction = model.predict(input_data, verbose=0)\n",
        "        if prediction.ndim > 2:\n",
        "            prediction = prediction.reshape(prediction.shape[0], -1)\n",
        "        predicted_views = scaler.inverse_transform(prediction)[0][0]\n",
        "        logger.info(f\"Predicted views: {predicted_views}\")\n",
        "        return predicted_views\n",
        "    except Exception as e:\n",
        "        logger.error(f\"Error predicting views: {e}\")\n",
        "        raise"
      ],
      "metadata": {
        "id": "b6MW79mBHMeU"
      },
      "execution_count": 87,
      "outputs": []
    },
    {
      "cell_type": "code",
      "source": [],
      "metadata": {
        "id": "MlTEeK_MHMbo"
      },
      "execution_count": 87,
      "outputs": []
    },
    {
      "cell_type": "markdown",
      "source": [
        "*Plot Loss*"
      ],
      "metadata": {
        "id": "SbitWLEGN3x3"
      }
    },
    {
      "cell_type": "code",
      "source": [
        "def plot_training_history(history):\n",
        "    logger.info(\"Plotting training history...\")\n",
        "    try:\n",
        "        # Plot loss\n",
        "        plt.figure(figsize=(12, 4))\n",
        "        plt.subplot(1, 2, 1)\n",
        "        plt.plot(history.history['loss'], label='Training Loss')\n",
        "        plt.plot(history.history['val_loss'], label='Validation Loss')\n",
        "        plt.title('Model Loss')\n",
        "        plt.xlabel('Epoch')\n",
        "        plt.ylabel('Loss')\n",
        "        plt.legend()\n",
        "\n",
        "        # Plot MAE\n",
        "        plt.subplot(1, 2, 2)\n",
        "        plt.plot(history.history['mae'], label='Training MAE')\n",
        "        plt.plot(history.history['val_mae'], label='Validation MAE')\n",
        "        plt.title('Model MAE')\n",
        "        plt.xlabel('Epoch')\n",
        "        plt.ylabel('MAE')\n",
        "        plt.legend()\n",
        "\n",
        "        plt.tight_layout()\n",
        "        plt.savefig('training_history.png')\n",
        "        plt.show()\n",
        "        plt.close()\n",
        "        logger.info(\"Training history plotted and saved as training_history.png\")\n",
        "    except Exception as e:\n",
        "        logger.error(f\"Error plotting training history: {e}\")\n",
        "        raise"
      ],
      "metadata": {
        "id": "vfVHZSLqN5gR"
      },
      "execution_count": 88,
      "outputs": []
    },
    {
      "cell_type": "code",
      "source": [],
      "metadata": {
        "id": "wh00LK0XN5al"
      },
      "execution_count": 88,
      "outputs": []
    },
    {
      "cell_type": "markdown",
      "source": [
        "# Run Functions"
      ],
      "metadata": {
        "id": "9mQR8pDgIWmA"
      }
    },
    {
      "cell_type": "code",
      "source": [
        "def main():\n",
        "    logger.info(\"Starting YT views predictions project...\")\n",
        "\n",
        "    # Load data\n",
        "    df = load_and_prepare_data(DATA)\n",
        "    # Preprocessing\n",
        "    X_train, X_test, y_train, y_test, tokenizer, scaler, max_length = preprocess_data(df)\n",
        "    # Creat model\n",
        "    vocab_size = min(5000, len(tokenizer.word_index) + 1)\n",
        "    model = build_lstm_model(vocab_size, max_length)\n",
        "    print(\"\\n ---- SUMMARY ---- \\n\")\n",
        "    model.summary()\n",
        "    # Train model\n",
        "    print(\"\\n ---- TRAINING ---- \\n\")\n",
        "    history = train_model(model, X_train, y_train, X_test, y_test)\n",
        "    # Plots\n",
        "    print(\"\\n ---- PLOTTING ---- \\n\")\n",
        "    plot_training_history(history)\n",
        "\n",
        "    # Prediction sample\n",
        "    sample_text = \"Amazing AI tutorial video | ai, technology, tutorial\"\n",
        "    sample_category_id = 28\n",
        "    sample_likes = 150\n",
        "    sample_dislikes = 10\n",
        "    sample_comment_total = 30\n",
        "    predicted_views = predict_views(model, tokenizer,\n",
        "                                    scaler, sample_text,\n",
        "                                    sample_category_id,\n",
        "                                    sample_likes, sample_dislikes,\n",
        "                                    sample_comment_total, max_length)\n",
        "\n",
        "    # Save model\n",
        "    model.save(\"yt_views_model.h5\")\n",
        "    logger.info(\"Model save as yt_views_model.h5\")"
      ],
      "metadata": {
        "id": "M_TKU9hVHMY8"
      },
      "execution_count": 89,
      "outputs": []
    },
    {
      "cell_type": "code",
      "source": [
        "# Run fun\n",
        "main()"
      ],
      "metadata": {
        "colab": {
          "base_uri": "https://localhost:8080/",
          "height": 1000
        },
        "id": "XgTSBePmHMWU",
        "outputId": "1c3b7235-cfa8-4724-b9ce-b9b236e0e4bd"
      },
      "execution_count": 90,
      "outputs": [
        {
          "output_type": "stream",
          "name": "stdout",
          "text": [
            "\n",
            " ---- SUMMARY ---- \n",
            "\n"
          ]
        },
        {
          "output_type": "display_data",
          "data": {
            "text/plain": [
              "\u001b[1mModel: \"sequential_4\"\u001b[0m\n"
            ],
            "text/html": [
              "<pre style=\"white-space:pre;overflow-x:auto;line-height:normal;font-family:Menlo,'DejaVu Sans Mono',consolas,'Courier New',monospace\"><span style=\"font-weight: bold\">Model: \"sequential_4\"</span>\n",
              "</pre>\n"
            ]
          },
          "metadata": {}
        },
        {
          "output_type": "display_data",
          "data": {
            "text/plain": [
              "┏━━━━━━━━━━━━━━━━━━━━━━━━━━━━━━━━━┳━━━━━━━━━━━━━━━━━━━━━━━━┳━━━━━━━━━━━━━━━┓\n",
              "┃\u001b[1m \u001b[0m\u001b[1mLayer (type)                   \u001b[0m\u001b[1m \u001b[0m┃\u001b[1m \u001b[0m\u001b[1mOutput Shape          \u001b[0m\u001b[1m \u001b[0m┃\u001b[1m \u001b[0m\u001b[1m      Param #\u001b[0m\u001b[1m \u001b[0m┃\n",
              "┡━━━━━━━━━━━━━━━━━━━━━━━━━━━━━━━━━╇━━━━━━━━━━━━━━━━━━━━━━━━╇━━━━━━━━━━━━━━━┩\n",
              "│ embedding_4 (\u001b[38;5;33mEmbedding\u001b[0m)         │ ?                      │   \u001b[38;5;34m0\u001b[0m (unbuilt) │\n",
              "├─────────────────────────────────┼────────────────────────┼───────────────┤\n",
              "│ lstm_4 (\u001b[38;5;33mLSTM\u001b[0m)                   │ ?                      │   \u001b[38;5;34m0\u001b[0m (unbuilt) │\n",
              "├─────────────────────────────────┼────────────────────────┼───────────────┤\n",
              "│ dropout (\u001b[38;5;33mDropout\u001b[0m)               │ ?                      │             \u001b[38;5;34m0\u001b[0m │\n",
              "├─────────────────────────────────┼────────────────────────┼───────────────┤\n",
              "│ dense_8 (\u001b[38;5;33mDense\u001b[0m)                 │ ?                      │   \u001b[38;5;34m0\u001b[0m (unbuilt) │\n",
              "├─────────────────────────────────┼────────────────────────┼───────────────┤\n",
              "│ dropout_1 (\u001b[38;5;33mDropout\u001b[0m)             │ ?                      │             \u001b[38;5;34m0\u001b[0m │\n",
              "├─────────────────────────────────┼────────────────────────┼───────────────┤\n",
              "│ dense_9 (\u001b[38;5;33mDense\u001b[0m)                 │ ?                      │   \u001b[38;5;34m0\u001b[0m (unbuilt) │\n",
              "└─────────────────────────────────┴────────────────────────┴───────────────┘\n"
            ],
            "text/html": [
              "<pre style=\"white-space:pre;overflow-x:auto;line-height:normal;font-family:Menlo,'DejaVu Sans Mono',consolas,'Courier New',monospace\">┏━━━━━━━━━━━━━━━━━━━━━━━━━━━━━━━━━┳━━━━━━━━━━━━━━━━━━━━━━━━┳━━━━━━━━━━━━━━━┓\n",
              "┃<span style=\"font-weight: bold\"> Layer (type)                    </span>┃<span style=\"font-weight: bold\"> Output Shape           </span>┃<span style=\"font-weight: bold\">       Param # </span>┃\n",
              "┡━━━━━━━━━━━━━━━━━━━━━━━━━━━━━━━━━╇━━━━━━━━━━━━━━━━━━━━━━━━╇━━━━━━━━━━━━━━━┩\n",
              "│ embedding_4 (<span style=\"color: #0087ff; text-decoration-color: #0087ff\">Embedding</span>)         │ ?                      │   <span style=\"color: #00af00; text-decoration-color: #00af00\">0</span> (unbuilt) │\n",
              "├─────────────────────────────────┼────────────────────────┼───────────────┤\n",
              "│ lstm_4 (<span style=\"color: #0087ff; text-decoration-color: #0087ff\">LSTM</span>)                   │ ?                      │   <span style=\"color: #00af00; text-decoration-color: #00af00\">0</span> (unbuilt) │\n",
              "├─────────────────────────────────┼────────────────────────┼───────────────┤\n",
              "│ dropout (<span style=\"color: #0087ff; text-decoration-color: #0087ff\">Dropout</span>)               │ ?                      │             <span style=\"color: #00af00; text-decoration-color: #00af00\">0</span> │\n",
              "├─────────────────────────────────┼────────────────────────┼───────────────┤\n",
              "│ dense_8 (<span style=\"color: #0087ff; text-decoration-color: #0087ff\">Dense</span>)                 │ ?                      │   <span style=\"color: #00af00; text-decoration-color: #00af00\">0</span> (unbuilt) │\n",
              "├─────────────────────────────────┼────────────────────────┼───────────────┤\n",
              "│ dropout_1 (<span style=\"color: #0087ff; text-decoration-color: #0087ff\">Dropout</span>)             │ ?                      │             <span style=\"color: #00af00; text-decoration-color: #00af00\">0</span> │\n",
              "├─────────────────────────────────┼────────────────────────┼───────────────┤\n",
              "│ dense_9 (<span style=\"color: #0087ff; text-decoration-color: #0087ff\">Dense</span>)                 │ ?                      │   <span style=\"color: #00af00; text-decoration-color: #00af00\">0</span> (unbuilt) │\n",
              "└─────────────────────────────────┴────────────────────────┴───────────────┘\n",
              "</pre>\n"
            ]
          },
          "metadata": {}
        },
        {
          "output_type": "display_data",
          "data": {
            "text/plain": [
              "\u001b[1m Total params: \u001b[0m\u001b[38;5;34m0\u001b[0m (0.00 B)\n"
            ],
            "text/html": [
              "<pre style=\"white-space:pre;overflow-x:auto;line-height:normal;font-family:Menlo,'DejaVu Sans Mono',consolas,'Courier New',monospace\"><span style=\"font-weight: bold\"> Total params: </span><span style=\"color: #00af00; text-decoration-color: #00af00\">0</span> (0.00 B)\n",
              "</pre>\n"
            ]
          },
          "metadata": {}
        },
        {
          "output_type": "display_data",
          "data": {
            "text/plain": [
              "\u001b[1m Trainable params: \u001b[0m\u001b[38;5;34m0\u001b[0m (0.00 B)\n"
            ],
            "text/html": [
              "<pre style=\"white-space:pre;overflow-x:auto;line-height:normal;font-family:Menlo,'DejaVu Sans Mono',consolas,'Courier New',monospace\"><span style=\"font-weight: bold\"> Trainable params: </span><span style=\"color: #00af00; text-decoration-color: #00af00\">0</span> (0.00 B)\n",
              "</pre>\n"
            ]
          },
          "metadata": {}
        },
        {
          "output_type": "display_data",
          "data": {
            "text/plain": [
              "\u001b[1m Non-trainable params: \u001b[0m\u001b[38;5;34m0\u001b[0m (0.00 B)\n"
            ],
            "text/html": [
              "<pre style=\"white-space:pre;overflow-x:auto;line-height:normal;font-family:Menlo,'DejaVu Sans Mono',consolas,'Courier New',monospace\"><span style=\"font-weight: bold\"> Non-trainable params: </span><span style=\"color: #00af00; text-decoration-color: #00af00\">0</span> (0.00 B)\n",
              "</pre>\n"
            ]
          },
          "metadata": {}
        },
        {
          "output_type": "stream",
          "name": "stdout",
          "text": [
            "\n",
            " ---- TRAINING ---- \n",
            "\n",
            "Epoch 1/20\n",
            "\u001b[1m160/160\u001b[0m \u001b[32m━━━━━━━━━━━━━━━━━━━━\u001b[0m\u001b[37m\u001b[0m \u001b[1m18s\u001b[0m 94ms/step - loss: 0.0377 - mae: 0.1025 - val_loss: 0.0038 - val_mae: 0.0228\n",
            "Epoch 2/20\n",
            "\u001b[1m160/160\u001b[0m \u001b[32m━━━━━━━━━━━━━━━━━━━━\u001b[0m\u001b[37m\u001b[0m \u001b[1m16s\u001b[0m 98ms/step - loss: 0.0030 - mae: 0.0218 - val_loss: 0.0037 - val_mae: 0.0212\n",
            "Epoch 3/20\n",
            "\u001b[1m160/160\u001b[0m \u001b[32m━━━━━━━━━━━━━━━━━━━━\u001b[0m\u001b[37m\u001b[0m \u001b[1m19s\u001b[0m 89ms/step - loss: 0.0028 - mae: 0.0218 - val_loss: 0.0035 - val_mae: 0.0205\n",
            "Epoch 4/20\n",
            "\u001b[1m160/160\u001b[0m \u001b[32m━━━━━━━━━━━━━━━━━━━━\u001b[0m\u001b[37m\u001b[0m \u001b[1m14s\u001b[0m 90ms/step - loss: 0.0036 - mae: 0.0244 - val_loss: 0.0035 - val_mae: 0.0204\n",
            "Epoch 5/20\n",
            "\u001b[1m160/160\u001b[0m \u001b[32m━━━━━━━━━━━━━━━━━━━━\u001b[0m\u001b[37m\u001b[0m \u001b[1m15s\u001b[0m 91ms/step - loss: 0.0028 - mae: 0.0229 - val_loss: 0.0034 - val_mae: 0.0207\n",
            "Epoch 6/20\n",
            "\u001b[1m160/160\u001b[0m \u001b[32m━━━━━━━━━━━━━━━━━━━━\u001b[0m\u001b[37m\u001b[0m \u001b[1m20s\u001b[0m 92ms/step - loss: 0.0031 - mae: 0.0231 - val_loss: 0.0034 - val_mae: 0.0206\n",
            "Epoch 7/20\n",
            "\u001b[1m160/160\u001b[0m \u001b[32m━━━━━━━━━━━━━━━━━━━━\u001b[0m\u001b[37m\u001b[0m \u001b[1m20s\u001b[0m 90ms/step - loss: 0.0034 - mae: 0.0239 - val_loss: 0.0034 - val_mae: 0.0207\n",
            "Epoch 8/20\n",
            "\u001b[1m160/160\u001b[0m \u001b[32m━━━━━━━━━━━━━━━━━━━━\u001b[0m\u001b[37m\u001b[0m \u001b[1m20s\u001b[0m 91ms/step - loss: 0.0031 - mae: 0.0241 - val_loss: 0.0033 - val_mae: 0.0211\n",
            "Epoch 9/20\n",
            "\u001b[1m160/160\u001b[0m \u001b[32m━━━━━━━━━━━━━━━━━━━━\u001b[0m\u001b[37m\u001b[0m \u001b[1m21s\u001b[0m 91ms/step - loss: 0.0023 - mae: 0.0219 - val_loss: 0.0028 - val_mae: 0.0199\n",
            "Epoch 10/20\n",
            "\u001b[1m160/160\u001b[0m \u001b[32m━━━━━━━━━━━━━━━━━━━━\u001b[0m\u001b[37m\u001b[0m \u001b[1m20s\u001b[0m 90ms/step - loss: 0.0026 - mae: 0.0215 - val_loss: 0.0026 - val_mae: 0.0216\n",
            "Epoch 11/20\n",
            "\u001b[1m160/160\u001b[0m \u001b[32m━━━━━━━━━━━━━━━━━━━━\u001b[0m\u001b[37m\u001b[0m \u001b[1m20s\u001b[0m 88ms/step - loss: 0.0021 - mae: 0.0221 - val_loss: 0.0016 - val_mae: 0.0169\n",
            "Epoch 12/20\n",
            "\u001b[1m160/160\u001b[0m \u001b[32m━━━━━━━━━━━━━━━━━━━━\u001b[0m\u001b[37m\u001b[0m \u001b[1m21s\u001b[0m 91ms/step - loss: 0.0014 - mae: 0.0178 - val_loss: 0.0015 - val_mae: 0.0173\n",
            "Epoch 13/20\n",
            "\u001b[1m160/160\u001b[0m \u001b[32m━━━━━━━━━━━━━━━━━━━━\u001b[0m\u001b[37m\u001b[0m \u001b[1m20s\u001b[0m 90ms/step - loss: 0.0016 - mae: 0.0188 - val_loss: 0.0015 - val_mae: 0.0154\n",
            "Epoch 14/20\n",
            "\u001b[1m160/160\u001b[0m \u001b[32m━━━━━━━━━━━━━━━━━━━━\u001b[0m\u001b[37m\u001b[0m \u001b[1m20s\u001b[0m 90ms/step - loss: 0.0013 - mae: 0.0165 - val_loss: 0.0012 - val_mae: 0.0145\n",
            "Epoch 15/20\n",
            "\u001b[1m160/160\u001b[0m \u001b[32m━━━━━━━━━━━━━━━━━━━━\u001b[0m\u001b[37m\u001b[0m \u001b[1m20s\u001b[0m 91ms/step - loss: 0.0015 - mae: 0.0166 - val_loss: 0.0010 - val_mae: 0.0158\n",
            "Epoch 16/20\n",
            "\u001b[1m160/160\u001b[0m \u001b[32m━━━━━━━━━━━━━━━━━━━━\u001b[0m\u001b[37m\u001b[0m \u001b[1m20s\u001b[0m 90ms/step - loss: 0.0013 - mae: 0.0165 - val_loss: 8.4467e-04 - val_mae: 0.0133\n",
            "Epoch 17/20\n",
            "\u001b[1m160/160\u001b[0m \u001b[32m━━━━━━━━━━━━━━━━━━━━\u001b[0m\u001b[37m\u001b[0m \u001b[1m22s\u001b[0m 100ms/step - loss: 0.0011 - mae: 0.0155 - val_loss: 8.6444e-04 - val_mae: 0.0134\n",
            "Epoch 18/20\n",
            "\u001b[1m160/160\u001b[0m \u001b[32m━━━━━━━━━━━━━━━━━━━━\u001b[0m\u001b[37m\u001b[0m \u001b[1m15s\u001b[0m 91ms/step - loss: 8.6765e-04 - mae: 0.0145 - val_loss: 6.1774e-04 - val_mae: 0.0126\n",
            "Epoch 19/20\n",
            "\u001b[1m160/160\u001b[0m \u001b[32m━━━━━━━━━━━━━━━━━━━━\u001b[0m\u001b[37m\u001b[0m \u001b[1m20s\u001b[0m 91ms/step - loss: 8.7414e-04 - mae: 0.0146 - val_loss: 7.7324e-04 - val_mae: 0.0127\n",
            "Epoch 20/20\n",
            "\u001b[1m160/160\u001b[0m \u001b[32m━━━━━━━━━━━━━━━━━━━━\u001b[0m\u001b[37m\u001b[0m \u001b[1m20s\u001b[0m 89ms/step - loss: 0.0010 - mae: 0.0141 - val_loss: 6.2930e-04 - val_mae: 0.0122\n",
            "\n",
            " ---- PLOTTING ---- \n",
            "\n"
          ]
        },
        {
          "output_type": "display_data",
          "data": {
            "text/plain": [
              "<Figure size 1200x400 with 2 Axes>"
            ],
            "image/png": "[encoded data removed]"
          },
          "metadata": {}
        },
        {
          "output_type": "stream",
          "name": "stderr",
          "text": [
            "WARNING:absl:You are saving your model as an HDF5 file via `model.save()` or `keras.saving.save_model(model)`. This file format is considered legacy. We recommend using instead the native Keras format, e.g. `model.save('my_model.keras')` or `keras.saving.save_model(model, 'my_model.keras')`. \n"
          ]
        }
      ]
    },
    {
      "cell_type": "code",
      "source": [],
      "metadata": {
        "id": "cwZk9yGoSQaO"
      },
      "execution_count": 90,
      "outputs": []
    }
  ]
}